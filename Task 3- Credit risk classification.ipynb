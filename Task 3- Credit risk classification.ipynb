{
 "cells": [
  {
   "cell_type": "markdown",
   "id": "32a8356b",
   "metadata": {},
   "source": [
    "# Problem statement"
   ]
  },
  {
   "cell_type": "markdown",
   "id": "e5b69dba",
   "metadata": {},
   "source": [
    "The datasets contains Customer Transaction and Demographic related data. They hold Risky and Not Risky customers for\n",
    "specific banking products. Classify customers with high and low risk."
   ]
  },
  {
   "cell_type": "markdown",
   "id": "8ba46302",
   "metadata": {},
   "source": [
    "# Objective"
   ]
  },
  {
   "cell_type": "markdown",
   "id": "cdcc96dd",
   "metadata": {},
   "source": [
    "1. Draw insights from data by doing exploratory data analysis\n",
    "2. Build classification model to classify credit risk."
   ]
  },
  {
   "cell_type": "code",
   "execution_count": 1,
   "id": "abd82b7a",
   "metadata": {},
   "outputs": [],
   "source": [
    "import pandas as pd\n",
    "import numpy as np\n",
    "import matplotlib.pyplot as plt\n",
    "import seaborn as sb\n",
    "import missingno as msno"
   ]
  },
  {
   "cell_type": "code",
   "execution_count": 2,
   "id": "0e0693de",
   "metadata": {},
   "outputs": [],
   "source": [
    "#Reading datasets\n",
    "df_payment=pd.read_csv('payment_data.csv')\n",
    "df_customer=pd.read_csv('customer_data.csv')"
   ]
  },
  {
   "cell_type": "code",
   "execution_count": 3,
   "id": "e082c2c1",
   "metadata": {},
   "outputs": [
    {
     "name": "stdout",
     "output_type": "stream",
     "text": [
      "<class 'pandas.core.frame.DataFrame'>\n",
      "RangeIndex: 8250 entries, 0 to 8249\n",
      "Data columns (total 12 columns):\n",
      " #   Column           Non-Null Count  Dtype  \n",
      "---  ------           --------------  -----  \n",
      " 0   id               8250 non-null   int64  \n",
      " 1   OVD_t1           8250 non-null   int64  \n",
      " 2   OVD_t2           8250 non-null   int64  \n",
      " 3   OVD_t3           8250 non-null   int64  \n",
      " 4   OVD_sum          8250 non-null   int64  \n",
      " 5   pay_normal       8250 non-null   int64  \n",
      " 6   prod_code        8250 non-null   int64  \n",
      " 7   prod_limit       2132 non-null   float64\n",
      " 8   update_date      8224 non-null   object \n",
      " 9   new_balance      8250 non-null   float64\n",
      " 10  highest_balance  7841 non-null   float64\n",
      " 11  report_date      7136 non-null   object \n",
      "dtypes: float64(3), int64(7), object(2)\n",
      "memory usage: 773.6+ KB\n"
     ]
    }
   ],
   "source": [
    "df_payment.info()"
   ]
  },
  {
   "cell_type": "code",
   "execution_count": 4,
   "id": "857d715d",
   "metadata": {},
   "outputs": [
    {
     "name": "stdout",
     "output_type": "stream",
     "text": [
      "<class 'pandas.core.frame.DataFrame'>\n",
      "RangeIndex: 1125 entries, 0 to 1124\n",
      "Data columns (total 13 columns):\n",
      " #   Column  Non-Null Count  Dtype  \n",
      "---  ------  --------------  -----  \n",
      " 0   label   1125 non-null   int64  \n",
      " 1   id      1125 non-null   int64  \n",
      " 2   fea_1   1125 non-null   int64  \n",
      " 3   fea_2   976 non-null    float64\n",
      " 4   fea_3   1125 non-null   int64  \n",
      " 5   fea_4   1125 non-null   float64\n",
      " 6   fea_5   1125 non-null   int64  \n",
      " 7   fea_6   1125 non-null   int64  \n",
      " 8   fea_7   1125 non-null   int64  \n",
      " 9   fea_8   1125 non-null   int64  \n",
      " 10  fea_9   1125 non-null   int64  \n",
      " 11  fea_10  1125 non-null   int64  \n",
      " 12  fea_11  1125 non-null   float64\n",
      "dtypes: float64(3), int64(10)\n",
      "memory usage: 114.4 KB\n"
     ]
    }
   ],
   "source": [
    "df_customer.info()"
   ]
  },
  {
   "cell_type": "markdown",
   "id": "8aadc4f7",
   "metadata": {},
   "source": [
    "# Data preprocessing"
   ]
  },
  {
   "cell_type": "markdown",
   "id": "4329ca3c",
   "metadata": {},
   "source": [
    "##### Missing values"
   ]
  },
  {
   "cell_type": "code",
   "execution_count": 5,
   "id": "ba617094",
   "metadata": {},
   "outputs": [
    {
     "data": {
      "text/plain": [
       "label       0\n",
       "id          0\n",
       "fea_1       0\n",
       "fea_2     149\n",
       "fea_3       0\n",
       "fea_4       0\n",
       "fea_5       0\n",
       "fea_6       0\n",
       "fea_7       0\n",
       "fea_8       0\n",
       "fea_9       0\n",
       "fea_10      0\n",
       "fea_11      0\n",
       "dtype: int64"
      ]
     },
     "execution_count": 5,
     "metadata": {},
     "output_type": "execute_result"
    }
   ],
   "source": [
    "df_customer.isna().sum()"
   ]
  },
  {
   "cell_type": "code",
   "execution_count": 6,
   "id": "c452acae",
   "metadata": {},
   "outputs": [
    {
     "data": {
      "text/plain": [
       "id                    0\n",
       "OVD_t1                0\n",
       "OVD_t2                0\n",
       "OVD_t3                0\n",
       "OVD_sum               0\n",
       "pay_normal            0\n",
       "prod_code             0\n",
       "prod_limit         6118\n",
       "update_date          26\n",
       "new_balance           0\n",
       "highest_balance     409\n",
       "report_date        1114\n",
       "dtype: int64"
      ]
     },
     "execution_count": 6,
     "metadata": {},
     "output_type": "execute_result"
    }
   ],
   "source": [
    "df_payment.isna().sum()"
   ]
  },
  {
   "cell_type": "code",
   "execution_count": 7,
   "id": "e969d826",
   "metadata": {},
   "outputs": [],
   "source": [
    "#Replacing missing values with mean\n",
    "df_customer['fea_2']=df_customer['fea_2'].replace(np.nan,df_customer['fea_2'].mean())"
   ]
  },
  {
   "cell_type": "code",
   "execution_count": 8,
   "id": "123d9bfd",
   "metadata": {},
   "outputs": [],
   "source": [
    "columns=['prod_limit','highest_balance']\n",
    "for col in columns:\n",
    "    df_payment[col] = df_payment[col].replace(np.nan, df_payment[col].mean())"
   ]
  },
  {
   "cell_type": "code",
   "execution_count": 9,
   "id": "a01319c6",
   "metadata": {},
   "outputs": [],
   "source": [
    "#Merging two dataframes using common column id\n",
    "data=pd.merge(df_customer,df_payment,on='id')"
   ]
  },
  {
   "cell_type": "code",
   "execution_count": 10,
   "id": "f8961dba",
   "metadata": {},
   "outputs": [
    {
     "name": "stdout",
     "output_type": "stream",
     "text": [
      "<class 'pandas.core.frame.DataFrame'>\n",
      "Int64Index: 8250 entries, 0 to 8249\n",
      "Data columns (total 24 columns):\n",
      " #   Column           Non-Null Count  Dtype  \n",
      "---  ------           --------------  -----  \n",
      " 0   label            8250 non-null   int64  \n",
      " 1   id               8250 non-null   int64  \n",
      " 2   fea_1            8250 non-null   int64  \n",
      " 3   fea_2            8250 non-null   float64\n",
      " 4   fea_3            8250 non-null   int64  \n",
      " 5   fea_4            8250 non-null   float64\n",
      " 6   fea_5            8250 non-null   int64  \n",
      " 7   fea_6            8250 non-null   int64  \n",
      " 8   fea_7            8250 non-null   int64  \n",
      " 9   fea_8            8250 non-null   int64  \n",
      " 10  fea_9            8250 non-null   int64  \n",
      " 11  fea_10           8250 non-null   int64  \n",
      " 12  fea_11           8250 non-null   float64\n",
      " 13  OVD_t1           8250 non-null   int64  \n",
      " 14  OVD_t2           8250 non-null   int64  \n",
      " 15  OVD_t3           8250 non-null   int64  \n",
      " 16  OVD_sum          8250 non-null   int64  \n",
      " 17  pay_normal       8250 non-null   int64  \n",
      " 18  prod_code        8250 non-null   int64  \n",
      " 19  prod_limit       8250 non-null   float64\n",
      " 20  update_date      8224 non-null   object \n",
      " 21  new_balance      8250 non-null   float64\n",
      " 22  highest_balance  8250 non-null   float64\n",
      " 23  report_date      7136 non-null   object \n",
      "dtypes: float64(6), int64(16), object(2)\n",
      "memory usage: 1.6+ MB\n"
     ]
    }
   ],
   "source": [
    "data.info()"
   ]
  },
  {
   "cell_type": "code",
   "execution_count": 11,
   "id": "fa84421b",
   "metadata": {},
   "outputs": [
    {
     "data": {
      "text/html": [
       "<div>\n",
       "<style scoped>\n",
       "    .dataframe tbody tr th:only-of-type {\n",
       "        vertical-align: middle;\n",
       "    }\n",
       "\n",
       "    .dataframe tbody tr th {\n",
       "        vertical-align: top;\n",
       "    }\n",
       "\n",
       "    .dataframe thead th {\n",
       "        text-align: right;\n",
       "    }\n",
       "</style>\n",
       "<table border=\"1\" class=\"dataframe\">\n",
       "  <thead>\n",
       "    <tr style=\"text-align: right;\">\n",
       "      <th></th>\n",
       "      <th>label</th>\n",
       "      <th>id</th>\n",
       "      <th>fea_1</th>\n",
       "      <th>fea_2</th>\n",
       "      <th>fea_3</th>\n",
       "      <th>fea_4</th>\n",
       "      <th>fea_5</th>\n",
       "      <th>fea_6</th>\n",
       "      <th>fea_7</th>\n",
       "      <th>fea_8</th>\n",
       "      <th>...</th>\n",
       "      <th>OVD_t2</th>\n",
       "      <th>OVD_t3</th>\n",
       "      <th>OVD_sum</th>\n",
       "      <th>pay_normal</th>\n",
       "      <th>prod_code</th>\n",
       "      <th>prod_limit</th>\n",
       "      <th>update_date</th>\n",
       "      <th>new_balance</th>\n",
       "      <th>highest_balance</th>\n",
       "      <th>report_date</th>\n",
       "    </tr>\n",
       "  </thead>\n",
       "  <tbody>\n",
       "    <tr>\n",
       "      <th>0</th>\n",
       "      <td>1</td>\n",
       "      <td>54982665</td>\n",
       "      <td>5</td>\n",
       "      <td>1245.5</td>\n",
       "      <td>3</td>\n",
       "      <td>77000.0</td>\n",
       "      <td>2</td>\n",
       "      <td>15</td>\n",
       "      <td>5</td>\n",
       "      <td>109</td>\n",
       "      <td>...</td>\n",
       "      <td>0</td>\n",
       "      <td>0</td>\n",
       "      <td>0</td>\n",
       "      <td>9</td>\n",
       "      <td>10</td>\n",
       "      <td>60500.000000</td>\n",
       "      <td>31/01/2015</td>\n",
       "      <td>6657.6</td>\n",
       "      <td>18934.0</td>\n",
       "      <td>19/09/2015</td>\n",
       "    </tr>\n",
       "    <tr>\n",
       "      <th>1</th>\n",
       "      <td>1</td>\n",
       "      <td>54982665</td>\n",
       "      <td>5</td>\n",
       "      <td>1245.5</td>\n",
       "      <td>3</td>\n",
       "      <td>77000.0</td>\n",
       "      <td>2</td>\n",
       "      <td>15</td>\n",
       "      <td>5</td>\n",
       "      <td>109</td>\n",
       "      <td>...</td>\n",
       "      <td>0</td>\n",
       "      <td>0</td>\n",
       "      <td>0</td>\n",
       "      <td>18</td>\n",
       "      <td>10</td>\n",
       "      <td>85789.702205</td>\n",
       "      <td>28/04/2009</td>\n",
       "      <td>153792.0</td>\n",
       "      <td>149387.0</td>\n",
       "      <td>10/08/2015</td>\n",
       "    </tr>\n",
       "    <tr>\n",
       "      <th>2</th>\n",
       "      <td>1</td>\n",
       "      <td>54982665</td>\n",
       "      <td>5</td>\n",
       "      <td>1245.5</td>\n",
       "      <td>3</td>\n",
       "      <td>77000.0</td>\n",
       "      <td>2</td>\n",
       "      <td>15</td>\n",
       "      <td>5</td>\n",
       "      <td>109</td>\n",
       "      <td>...</td>\n",
       "      <td>0</td>\n",
       "      <td>0</td>\n",
       "      <td>0</td>\n",
       "      <td>1</td>\n",
       "      <td>5</td>\n",
       "      <td>85789.702205</td>\n",
       "      <td>30/03/2009</td>\n",
       "      <td>0.0</td>\n",
       "      <td>150500.0</td>\n",
       "      <td>NaN</td>\n",
       "    </tr>\n",
       "    <tr>\n",
       "      <th>3</th>\n",
       "      <td>1</td>\n",
       "      <td>54982665</td>\n",
       "      <td>5</td>\n",
       "      <td>1245.5</td>\n",
       "      <td>3</td>\n",
       "      <td>77000.0</td>\n",
       "      <td>2</td>\n",
       "      <td>15</td>\n",
       "      <td>5</td>\n",
       "      <td>109</td>\n",
       "      <td>...</td>\n",
       "      <td>2</td>\n",
       "      <td>26</td>\n",
       "      <td>11906</td>\n",
       "      <td>6</td>\n",
       "      <td>10</td>\n",
       "      <td>85789.702205</td>\n",
       "      <td>17/05/2007</td>\n",
       "      <td>0.0</td>\n",
       "      <td>46371.0</td>\n",
       "      <td>12/07/2013</td>\n",
       "    </tr>\n",
       "    <tr>\n",
       "      <th>4</th>\n",
       "      <td>0</td>\n",
       "      <td>59004779</td>\n",
       "      <td>4</td>\n",
       "      <td>1277.0</td>\n",
       "      <td>1</td>\n",
       "      <td>113000.0</td>\n",
       "      <td>2</td>\n",
       "      <td>8</td>\n",
       "      <td>-1</td>\n",
       "      <td>100</td>\n",
       "      <td>...</td>\n",
       "      <td>0</td>\n",
       "      <td>0</td>\n",
       "      <td>0</td>\n",
       "      <td>4</td>\n",
       "      <td>6</td>\n",
       "      <td>85789.702205</td>\n",
       "      <td>02/06/2016</td>\n",
       "      <td>15120.0</td>\n",
       "      <td>21500.0</td>\n",
       "      <td>19/04/2016</td>\n",
       "    </tr>\n",
       "  </tbody>\n",
       "</table>\n",
       "<p>5 rows × 24 columns</p>\n",
       "</div>"
      ],
      "text/plain": [
       "   label        id  fea_1   fea_2  fea_3     fea_4  fea_5  fea_6  fea_7  \\\n",
       "0      1  54982665      5  1245.5      3   77000.0      2     15      5   \n",
       "1      1  54982665      5  1245.5      3   77000.0      2     15      5   \n",
       "2      1  54982665      5  1245.5      3   77000.0      2     15      5   \n",
       "3      1  54982665      5  1245.5      3   77000.0      2     15      5   \n",
       "4      0  59004779      4  1277.0      1  113000.0      2      8     -1   \n",
       "\n",
       "   fea_8  ...  OVD_t2  OVD_t3  OVD_sum  pay_normal  prod_code    prod_limit  \\\n",
       "0    109  ...       0       0        0           9         10  60500.000000   \n",
       "1    109  ...       0       0        0          18         10  85789.702205   \n",
       "2    109  ...       0       0        0           1          5  85789.702205   \n",
       "3    109  ...       2      26    11906           6         10  85789.702205   \n",
       "4    100  ...       0       0        0           4          6  85789.702205   \n",
       "\n",
       "   update_date  new_balance  highest_balance  report_date  \n",
       "0   31/01/2015       6657.6          18934.0   19/09/2015  \n",
       "1   28/04/2009     153792.0         149387.0   10/08/2015  \n",
       "2   30/03/2009          0.0         150500.0          NaN  \n",
       "3   17/05/2007          0.0          46371.0   12/07/2013  \n",
       "4   02/06/2016      15120.0          21500.0   19/04/2016  \n",
       "\n",
       "[5 rows x 24 columns]"
      ]
     },
     "execution_count": 11,
     "metadata": {},
     "output_type": "execute_result"
    }
   ],
   "source": [
    "data.head()"
   ]
  },
  {
   "cell_type": "markdown",
   "id": "d087f454",
   "metadata": {},
   "source": [
    "# EDA"
   ]
  },
  {
   "cell_type": "code",
   "execution_count": 16,
   "id": "7408ec45",
   "metadata": {},
   "outputs": [
    {
     "data": {
      "text/plain": [
       "<AxesSubplot:xlabel='fea_1', ylabel='Count'>"
      ]
     },
     "execution_count": 16,
     "metadata": {},
     "output_type": "execute_result"
    },
    {
     "data": {
      "image/png": "[encoded data removed]",
      "text/plain": [
       "<Figure size 432x288 with 1 Axes>"
      ]
     },
     "metadata": {
      "needs_background": "light"
     },
     "output_type": "display_data"
    }
   ],
   "source": [
    "sb.histplot(x='fea_1',hue='label',data=data)"
   ]
  },
  {
   "cell_type": "code",
   "execution_count": 17,
   "id": "c4a162de",
   "metadata": {},
   "outputs": [
    {
     "data": {
      "text/plain": [
       "<AxesSubplot:xlabel='fea_2', ylabel='Count'>"
      ]
     },
     "execution_count": 17,
     "metadata": {},
     "output_type": "execute_result"
    },
    {
     "data": {
      "image/png": "[encoded data removed]",
      "text/plain": [
       "<Figure size 432x288 with 1 Axes>"
      ]
     },
     "metadata": {
      "needs_background": "light"
     },
     "output_type": "display_data"
    }
   ],
   "source": [
    "sb.histplot(x='fea_2',hue='label',data=data)"
   ]
  },
  {
   "cell_type": "code",
   "execution_count": 18,
   "id": "6e8e9338",
   "metadata": {},
   "outputs": [
    {
     "data": {
      "text/plain": [
       "<AxesSubplot:xlabel='fea_3', ylabel='Count'>"
      ]
     },
     "execution_count": 18,
     "metadata": {},
     "output_type": "execute_result"
    },
    {
     "data": {
      "image/png": "[encoded data removed]",
      "text/plain": [
       "<Figure size 432x288 with 1 Axes>"
      ]
     },
     "metadata": {
      "needs_background": "light"
     },
     "output_type": "display_data"
    }
   ],
   "source": [
    "sb.histplot(x='fea_3',hue='label',data=data)"
   ]
  },
  {
   "cell_type": "code",
   "execution_count": 19,
   "id": "737fab56",
   "metadata": {},
   "outputs": [
    {
     "data": {
      "text/plain": [
       "<AxesSubplot:xlabel='fea_4', ylabel='Count'>"
      ]
     },
     "execution_count": 19,
     "metadata": {},
     "output_type": "execute_result"
    },
    {
     "data": {
      "image/png": "[encoded data removed]",
      "text/plain": [
       "<Figure size 432x288 with 1 Axes>"
      ]
     },
     "metadata": {
      "needs_background": "light"
     },
     "output_type": "display_data"
    }
   ],
   "source": [
    "sb.histplot(x='fea_4',hue='label',data=data)"
   ]
  },
  {
   "cell_type": "code",
   "execution_count": 20,
   "id": "da35e1da",
   "metadata": {},
   "outputs": [
    {
     "data": {
      "text/plain": [
       "<AxesSubplot:xlabel='fea_5', ylabel='Count'>"
      ]
     },
     "execution_count": 20,
     "metadata": {},
     "output_type": "execute_result"
    },
    {
     "data": {
      "image/png": "[encoded data removed]",
      "text/plain": [
       "<Figure size 432x288 with 1 Axes>"
      ]
     },
     "metadata": {
      "needs_background": "light"
     },
     "output_type": "display_data"
    }
   ],
   "source": [
    "sb.histplot(x='fea_5',hue='label',data=data)"
   ]
  },
  {
   "cell_type": "code",
   "execution_count": 21,
   "id": "9ce40632",
   "metadata": {},
   "outputs": [
    {
     "data": {
      "text/plain": [
       "<AxesSubplot:xlabel='fea_6', ylabel='Count'>"
      ]
     },
     "execution_count": 21,
     "metadata": {},
     "output_type": "execute_result"
    },
    {
     "data": {
      "image/png": "[encoded data removed]",
      "text/plain": [
       "<Figure size 432x288 with 1 Axes>"
      ]
     },
     "metadata": {
      "needs_background": "light"
     },
     "output_type": "display_data"
    }
   ],
   "source": [
    "sb.histplot(x='fea_6',hue='label',data=data)"
   ]
  },
  {
   "cell_type": "code",
   "execution_count": 22,
   "id": "42571e49",
   "metadata": {},
   "outputs": [
    {
     "data": {
      "text/plain": [
       "<AxesSubplot:xlabel='fea_7', ylabel='Count'>"
      ]
     },
     "execution_count": 22,
     "metadata": {},
     "output_type": "execute_result"
    },
    {
     "data": {
      "image/png": "[encoded data removed]",
      "text/plain": [
       "<Figure size 432x288 with 1 Axes>"
      ]
     },
     "metadata": {
      "needs_background": "light"
     },
     "output_type": "display_data"
    }
   ],
   "source": [
    "sb.histplot(x='fea_7',hue='label',data=data)"
   ]
  },
  {
   "cell_type": "code",
   "execution_count": 24,
   "id": "2ac5401b",
   "metadata": {},
   "outputs": [
    {
     "data": {
      "text/plain": [
       "<AxesSubplot:xlabel='fea_8', ylabel='Count'>"
      ]
     },
     "execution_count": 24,
     "metadata": {},
     "output_type": "execute_result"
    },
    {
     "data": {
      "image/png": "[encoded data removed]",
      "text/plain": [
       "<Figure size 432x288 with 1 Axes>"
      ]
     },
     "metadata": {
      "needs_background": "light"
     },
     "output_type": "display_data"
    }
   ],
   "source": [
    "sb.histplot(x='fea_8',hue='label',data=data)"
   ]
  },
  {
   "cell_type": "code",
   "execution_count": 25,
   "id": "85713faa",
   "metadata": {},
   "outputs": [
    {
     "data": {
      "text/plain": [
       "<AxesSubplot:xlabel='fea_9', ylabel='Count'>"
      ]
     },
     "execution_count": 25,
     "metadata": {},
     "output_type": "execute_result"
    },
    {
     "data": {
      "image/png": "[encoded data removed]",
      "text/plain": [
       "<Figure size 432x288 with 1 Axes>"
      ]
     },
     "metadata": {
      "needs_background": "light"
     },
     "output_type": "display_data"
    }
   ],
   "source": [
    "sb.histplot(x='fea_9',hue='label',data=data)"
   ]
  },
  {
   "cell_type": "code",
   "execution_count": 11,
   "id": "a1c8fbda",
   "metadata": {},
   "outputs": [
    {
     "data": {
      "text/plain": [
       "0    6863\n",
       "1    1387\n",
       "Name: label, dtype: int64"
      ]
     },
     "execution_count": 11,
     "metadata": {},
     "output_type": "execute_result"
    }
   ],
   "source": [
    "data['label'].value_counts()"
   ]
  },
  {
   "cell_type": "code",
   "execution_count": 12,
   "id": "5d59f62c",
   "metadata": {},
   "outputs": [],
   "source": [
    "x=data.drop(columns=['label','update_date','report_date'])\n",
    "y=data['label']"
   ]
  },
  {
   "cell_type": "code",
   "execution_count": 88,
   "id": "f6f49734",
   "metadata": {},
   "outputs": [
    {
     "data": {
      "text/plain": [
       "0    6863\n",
       "1    6863\n",
       "Name: label, dtype: int64"
      ]
     },
     "execution_count": 88,
     "metadata": {},
     "output_type": "execute_result"
    }
   ],
   "source": [
    "from imblearn.over_sampling import SMOTE\n",
    "smote = SMOTE(sampling_strategy='minority')\n",
    "x_sm, y_sm = smote.fit_resample(x, y)\n",
    "\n",
    "y_sm.value_counts()"
   ]
  },
  {
   "cell_type": "code",
   "execution_count": 89,
   "id": "dda7285c",
   "metadata": {},
   "outputs": [],
   "source": [
    "from sklearn.model_selection import train_test_split\n",
    "x_train,x_test,y_train,y_test=train_test_split(x_sm,y_sm,test_size=0.2)"
   ]
  },
  {
   "cell_type": "markdown",
   "id": "ce0c4791",
   "metadata": {},
   "source": [
    "# Model building"
   ]
  },
  {
   "cell_type": "markdown",
   "id": "b3c48c9a",
   "metadata": {},
   "source": [
    "##### Logistic regression"
   ]
  },
  {
   "cell_type": "code",
   "execution_count": 90,
   "id": "f3c09650",
   "metadata": {},
   "outputs": [
    {
     "data": {
      "text/plain": [
       "LogisticRegression()"
      ]
     },
     "execution_count": 90,
     "metadata": {},
     "output_type": "execute_result"
    }
   ],
   "source": [
    "from sklearn.linear_model import LogisticRegression as LogReg\n",
    "logreg=LogReg()\n",
    "\n",
    "logreg.fit(x_train,y_train)"
   ]
  },
  {
   "cell_type": "code",
   "execution_count": 91,
   "id": "75e3fc98",
   "metadata": {},
   "outputs": [],
   "source": [
    "test_predict = logreg.predict(x_test)"
   ]
  },
  {
   "cell_type": "code",
   "execution_count": 92,
   "id": "baa70240",
   "metadata": {},
   "outputs": [
    {
     "name": "stdout",
     "output_type": "stream",
     "text": [
      "Training f1_score 0.6289180990899899\n"
     ]
    }
   ],
   "source": [
    "from sklearn.metrics import f1_score\n",
    "k = f1_score(test_predict, y_test)\n",
    "print('Training f1_score', k )"
   ]
  },
  {
   "cell_type": "markdown",
   "id": "05ddb2af",
   "metadata": {},
   "source": [
    "##### XGB"
   ]
  },
  {
   "cell_type": "code",
   "execution_count": 93,
   "id": "f8f74679",
   "metadata": {},
   "outputs": [],
   "source": [
    "import xgboost as xgb"
   ]
  },
  {
   "cell_type": "code",
   "execution_count": 94,
   "id": "2516f679",
   "metadata": {},
   "outputs": [],
   "source": [
    "model=xgb.XGBClassifier(objective='binary:logistic',learning_rate=0.1,max_depth=6,estimators=500)"
   ]
  },
  {
   "cell_type": "code",
   "execution_count": 95,
   "id": "88b70dc7",
   "metadata": {},
   "outputs": [
    {
     "name": "stderr",
     "output_type": "stream",
     "text": [
      "C:\\ProgramData\\Anaconda3\\lib\\site-packages\\xgboost\\sklearn.py:1224: UserWarning: The use of label encoder in XGBClassifier is deprecated and will be removed in a future release. To remove this warning, do the following: 1) Pass option use_label_encoder=False when constructing XGBClassifier object; and 2) Encode your labels (y) as integers starting with 0, i.e. 0, 1, 2, ..., [num_class - 1].\n",
      "  warnings.warn(label_encoder_deprecation_msg, UserWarning)\n"
     ]
    },
    {
     "name": "stdout",
     "output_type": "stream",
     "text": [
      "[11:22:30] WARNING: C:/Users/Administrator/workspace/xgboost-win64_release_1.5.0/src/learner.cc:576: \n",
      "Parameters: { \"estimators\" } might not be used.\n",
      "\n",
      "  This could be a false alarm, with some parameters getting used by language bindings but\n",
      "  then being mistakenly passed down to XGBoost core, or some parameter actually being used\n",
      "  but getting flagged wrongly here. Please open an issue if you find any such cases.\n",
      "\n",
      "\n",
      "[11:22:30] WARNING: C:/Users/Administrator/workspace/xgboost-win64_release_1.5.0/src/learner.cc:1115: Starting in XGBoost 1.3.0, the default evaluation metric used with the objective 'binary:logistic' was changed from 'error' to 'logloss'. Explicitly set eval_metric if you'd like to restore the old behavior.\n"
     ]
    },
    {
     "data": {
      "text/plain": [
       "XGBClassifier(base_score=0.5, booster='gbtree', colsample_bylevel=1,\n",
       "              colsample_bynode=1, colsample_bytree=1, enable_categorical=False,\n",
       "              estimators=500, gamma=0, gpu_id=-1, importance_type=None,\n",
       "              interaction_constraints='', learning_rate=0.1, max_delta_step=0,\n",
       "              max_depth=6, min_child_weight=1, missing=nan,\n",
       "              monotone_constraints='()', n_estimators=100, n_jobs=8,\n",
       "              num_parallel_tree=1, predictor='auto', random_state=0,\n",
       "              reg_alpha=0, reg_lambda=1, scale_pos_weight=1, subsample=1,\n",
       "              tree_method='exact', validate_parameters=1, verbosity=None)"
      ]
     },
     "execution_count": 95,
     "metadata": {},
     "output_type": "execute_result"
    }
   ],
   "source": [
    "model.fit(x_train,y_train)"
   ]
  },
  {
   "cell_type": "code",
   "execution_count": 96,
   "id": "a31d0539",
   "metadata": {},
   "outputs": [],
   "source": [
    "y_pred=model.predict(x_test)"
   ]
  },
  {
   "cell_type": "code",
   "execution_count": 97,
   "id": "79f98b76",
   "metadata": {},
   "outputs": [
    {
     "name": "stdout",
     "output_type": "stream",
     "text": [
      "0.9737800436999272\n"
     ]
    }
   ],
   "source": [
    "from sklearn.metrics import accuracy_score\n",
    "print(accuracy_score(y_test,y_pred))"
   ]
  },
  {
   "cell_type": "markdown",
   "id": "81b2b4d7",
   "metadata": {},
   "source": [
    "# Insights"
   ]
  },
  {
   "cell_type": "markdown",
   "id": "a401b821",
   "metadata": {},
   "source": [
    "1. As fea_1 increases credit risk increases.\n",
    "2. For fea_2 between 1250 to 1350 credit risk is high.\n",
    "3. For fea_3 equal to 3 credit risk is high.\n",
    "4. For fea_4 between 0 to 0.2 credit risk is high.\n",
    "5. For fea_5 equal to 2 risk is high.\n",
    "6. For fea_8 increases risk also increases.\n",
    "7. For fea_9 equal to 5 risk is high."
   ]
  },
  {
   "cell_type": "markdown",
   "id": "943b904c",
   "metadata": {},
   "source": [
    "1. Logistic regression: Model is classifying credit risk with 62% accuracy.\n",
    "2. XG boost: Model is classifying credit risk with 97% accuracy."
   ]
  }
 ],
 "metadata": {
  "kernelspec": {
   "display_name": "Python 3",
   "language": "python",
   "name": "python3"
  },
  "language_info": {
   "codemirror_mode": {
    "name": "ipython",
    "version": 3
   },
   "file_extension": ".py",
   "mimetype": "text/x-python",
   "name": "python",
   "nbconvert_exporter": "python",
   "pygments_lexer": "ipython3",
   "version": "3.8.8"
  }
 },
 "nbformat": 4,
 "nbformat_minor": 5
}
