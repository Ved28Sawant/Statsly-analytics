{
 "cells": [
  {
   "cell_type": "markdown",
   "id": "09cfe4d2",
   "metadata": {},
   "source": [
    "# Problem statement"
   ]
  },
  {
   "cell_type": "markdown",
   "id": "ac5be986",
   "metadata": {},
   "source": [
    "As the healthcare system moves toward value-based care, CMS has created many programs to improvethe quality of care of patients. One of these programs is called the Hospital Readmission ReductionProgram (HRRP), which reduces reimbursement to hospitals with above-average readmissions. For thosehospitals which are currently penalized under this program, one solution is to create interventions toprovide additional assistance to patients with increased risk of readmission. But how do we identify thesepatients? We can use predictive modeling from data science to help prioritize patients.\n",
    "One patient population that is at increased risk of hospitalization and readmission is that of diabetes. Diabetesis a medical condition that affects approximately 1 in 10 patients in the United States. According to Ostling et al,patients with diabetes have almost double the chance of being hospitalized than the general population (Ostlinget al 2017).\n",
    "Predict if a patient with diabetes will be readmitted to the hospital within 30 days."
   ]
  },
  {
   "cell_type": "markdown",
   "id": "118b0b26",
   "metadata": {},
   "source": [
    "# Objective"
   ]
  },
  {
   "cell_type": "markdown",
   "id": "948503e5",
   "metadata": {},
   "source": [
    "1. Explore data by Exploratory data analysis.\n",
    "2. Build a machine learning model to predict if a patient with diabetes will be readmitted to the hospital within 30 days."
   ]
  },
  {
   "cell_type": "code",
   "execution_count": 1,
   "id": "d8ac25ab",
   "metadata": {},
   "outputs": [],
   "source": [
    "import pandas as pd\n",
    "import numpy as np\n",
    "import matplotlib.pyplot as plt\n",
    "import seaborn as sb"
   ]
  },
  {
   "cell_type": "code",
   "execution_count": 2,
   "id": "b1bb880a",
   "metadata": {},
   "outputs": [
    {
     "data": {
      "text/html": [
       "<div>\n",
       "<style scoped>\n",
       "    .dataframe tbody tr th:only-of-type {\n",
       "        vertical-align: middle;\n",
       "    }\n",
       "\n",
       "    .dataframe tbody tr th {\n",
       "        vertical-align: top;\n",
       "    }\n",
       "\n",
       "    .dataframe thead th {\n",
       "        text-align: right;\n",
       "    }\n",
       "</style>\n",
       "<table border=\"1\" class=\"dataframe\">\n",
       "  <thead>\n",
       "    <tr style=\"text-align: right;\">\n",
       "      <th></th>\n",
       "      <th>encounter_id</th>\n",
       "      <th>patient_nbr</th>\n",
       "      <th>race</th>\n",
       "      <th>gender</th>\n",
       "      <th>age</th>\n",
       "      <th>weight</th>\n",
       "      <th>admission_type_id</th>\n",
       "      <th>discharge_disposition_id</th>\n",
       "      <th>admission_source_id</th>\n",
       "      <th>time_in_hospital</th>\n",
       "      <th>...</th>\n",
       "      <th>citoglipton</th>\n",
       "      <th>insulin</th>\n",
       "      <th>glyburidemetformin</th>\n",
       "      <th>glipizidemetformin</th>\n",
       "      <th>glimepiridepioglitazone</th>\n",
       "      <th>metforminrosiglitazone</th>\n",
       "      <th>metforminpioglitazone</th>\n",
       "      <th>change</th>\n",
       "      <th>diabetesMed</th>\n",
       "      <th>readmitted</th>\n",
       "    </tr>\n",
       "  </thead>\n",
       "  <tbody>\n",
       "    <tr>\n",
       "      <th>0</th>\n",
       "      <td>2278392</td>\n",
       "      <td>8222157</td>\n",
       "      <td>Caucasian</td>\n",
       "      <td>Female</td>\n",
       "      <td>[0-10)</td>\n",
       "      <td>[0-25)</td>\n",
       "      <td>6</td>\n",
       "      <td>25</td>\n",
       "      <td>1</td>\n",
       "      <td>1</td>\n",
       "      <td>...</td>\n",
       "      <td>No</td>\n",
       "      <td>No</td>\n",
       "      <td>No</td>\n",
       "      <td>No</td>\n",
       "      <td>No</td>\n",
       "      <td>No</td>\n",
       "      <td>No</td>\n",
       "      <td>No</td>\n",
       "      <td>No</td>\n",
       "      <td>0</td>\n",
       "    </tr>\n",
       "    <tr>\n",
       "      <th>1</th>\n",
       "      <td>149190</td>\n",
       "      <td>55629189</td>\n",
       "      <td>Caucasian</td>\n",
       "      <td>Female</td>\n",
       "      <td>[10-20)</td>\n",
       "      <td>[50-75)</td>\n",
       "      <td>1</td>\n",
       "      <td>1</td>\n",
       "      <td>7</td>\n",
       "      <td>3</td>\n",
       "      <td>...</td>\n",
       "      <td>No</td>\n",
       "      <td>Up</td>\n",
       "      <td>No</td>\n",
       "      <td>No</td>\n",
       "      <td>No</td>\n",
       "      <td>No</td>\n",
       "      <td>No</td>\n",
       "      <td>Ch</td>\n",
       "      <td>Yes</td>\n",
       "      <td>1</td>\n",
       "    </tr>\n",
       "    <tr>\n",
       "      <th>2</th>\n",
       "      <td>64410</td>\n",
       "      <td>86047875</td>\n",
       "      <td>AfricanAmerican</td>\n",
       "      <td>Female</td>\n",
       "      <td>[20-30)</td>\n",
       "      <td>[75-100)</td>\n",
       "      <td>1</td>\n",
       "      <td>1</td>\n",
       "      <td>7</td>\n",
       "      <td>2</td>\n",
       "      <td>...</td>\n",
       "      <td>No</td>\n",
       "      <td>No</td>\n",
       "      <td>No</td>\n",
       "      <td>No</td>\n",
       "      <td>No</td>\n",
       "      <td>No</td>\n",
       "      <td>No</td>\n",
       "      <td>No</td>\n",
       "      <td>Yes</td>\n",
       "      <td>0</td>\n",
       "    </tr>\n",
       "    <tr>\n",
       "      <th>3</th>\n",
       "      <td>500364</td>\n",
       "      <td>82442376</td>\n",
       "      <td>Caucasian</td>\n",
       "      <td>Male</td>\n",
       "      <td>[30-40)</td>\n",
       "      <td>[50-75)</td>\n",
       "      <td>1</td>\n",
       "      <td>1</td>\n",
       "      <td>7</td>\n",
       "      <td>2</td>\n",
       "      <td>...</td>\n",
       "      <td>No</td>\n",
       "      <td>Up</td>\n",
       "      <td>No</td>\n",
       "      <td>No</td>\n",
       "      <td>No</td>\n",
       "      <td>No</td>\n",
       "      <td>No</td>\n",
       "      <td>Ch</td>\n",
       "      <td>Yes</td>\n",
       "      <td>0</td>\n",
       "    </tr>\n",
       "    <tr>\n",
       "      <th>4</th>\n",
       "      <td>16680</td>\n",
       "      <td>42519267</td>\n",
       "      <td>Caucasian</td>\n",
       "      <td>Male</td>\n",
       "      <td>[40-50)</td>\n",
       "      <td>[75-100)</td>\n",
       "      <td>1</td>\n",
       "      <td>1</td>\n",
       "      <td>7</td>\n",
       "      <td>1</td>\n",
       "      <td>...</td>\n",
       "      <td>No</td>\n",
       "      <td>Steady</td>\n",
       "      <td>No</td>\n",
       "      <td>No</td>\n",
       "      <td>No</td>\n",
       "      <td>No</td>\n",
       "      <td>No</td>\n",
       "      <td>Ch</td>\n",
       "      <td>Yes</td>\n",
       "      <td>0</td>\n",
       "    </tr>\n",
       "  </tbody>\n",
       "</table>\n",
       "<p>5 rows × 47 columns</p>\n",
       "</div>"
      ],
      "text/plain": [
       "   encounter_id  patient_nbr             race  gender      age    weight  \\\n",
       "0       2278392      8222157        Caucasian  Female   [0-10)    [0-25)   \n",
       "1        149190     55629189        Caucasian  Female  [10-20)   [50-75)   \n",
       "2         64410     86047875  AfricanAmerican  Female  [20-30)  [75-100)   \n",
       "3        500364     82442376        Caucasian    Male  [30-40)   [50-75)   \n",
       "4         16680     42519267        Caucasian    Male  [40-50)  [75-100)   \n",
       "\n",
       "   admission_type_id  discharge_disposition_id  admission_source_id  \\\n",
       "0                  6                        25                    1   \n",
       "1                  1                         1                    7   \n",
       "2                  1                         1                    7   \n",
       "3                  1                         1                    7   \n",
       "4                  1                         1                    7   \n",
       "\n",
       "   time_in_hospital  ... citoglipton insulin  glyburidemetformin  \\\n",
       "0                 1  ...          No      No                  No   \n",
       "1                 3  ...          No      Up                  No   \n",
       "2                 2  ...          No      No                  No   \n",
       "3                 2  ...          No      Up                  No   \n",
       "4                 1  ...          No  Steady                  No   \n",
       "\n",
       "   glipizidemetformin  glimepiridepioglitazone  metforminrosiglitazone  \\\n",
       "0                  No                       No                      No   \n",
       "1                  No                       No                      No   \n",
       "2                  No                       No                      No   \n",
       "3                  No                       No                      No   \n",
       "4                  No                       No                      No   \n",
       "\n",
       "   metforminpioglitazone  change  diabetesMed readmitted  \n",
       "0                     No      No           No          0  \n",
       "1                     No      Ch          Yes          1  \n",
       "2                     No      No          Yes          0  \n",
       "3                     No      Ch          Yes          0  \n",
       "4                     No      Ch          Yes          0  \n",
       "\n",
       "[5 rows x 47 columns]"
      ]
     },
     "execution_count": 2,
     "metadata": {},
     "output_type": "execute_result"
    }
   ],
   "source": [
    "#Reading data\n",
    "data=pd.read_csv(\"Diabetes Re-admission.csv\")\n",
    "data.head()"
   ]
  },
  {
   "cell_type": "code",
   "execution_count": 3,
   "id": "df4d995d",
   "metadata": {},
   "outputs": [
    {
     "name": "stdout",
     "output_type": "stream",
     "text": [
      "<class 'pandas.core.frame.DataFrame'>\n",
      "RangeIndex: 100766 entries, 0 to 100765\n",
      "Data columns (total 47 columns):\n",
      " #   Column                    Non-Null Count   Dtype \n",
      "---  ------                    --------------   ----- \n",
      " 0   encounter_id              100766 non-null  int64 \n",
      " 1   patient_nbr               100766 non-null  int64 \n",
      " 2   race                      100766 non-null  object\n",
      " 3   gender                    100766 non-null  object\n",
      " 4   age                       100766 non-null  object\n",
      " 5   weight                    100766 non-null  object\n",
      " 6   admission_type_id         100766 non-null  int64 \n",
      " 7   discharge_disposition_id  100766 non-null  int64 \n",
      " 8   admission_source_id       100766 non-null  int64 \n",
      " 9   time_in_hospital          100766 non-null  int64 \n",
      " 10  payer_code                100766 non-null  object\n",
      " 11  medical_specialty         100766 non-null  object\n",
      " 12  num_lab_procedures        100766 non-null  int64 \n",
      " 13  num_procedures            100766 non-null  int64 \n",
      " 14  num_medications           100766 non-null  int64 \n",
      " 15  number_outpatient         100766 non-null  int64 \n",
      " 16  number_emergency          100766 non-null  int64 \n",
      " 17  number_inpatient          100766 non-null  int64 \n",
      " 18  number_diagnoses          100766 non-null  int64 \n",
      " 19  maxgluserum               100766 non-null  object\n",
      " 20  A1Cresult                 100766 non-null  object\n",
      " 21  metformin                 100766 non-null  object\n",
      " 22  repaglinide               100766 non-null  object\n",
      " 23  nateglinide               100766 non-null  object\n",
      " 24  chlorpropamide            100766 non-null  object\n",
      " 25  glimepiride               100766 non-null  object\n",
      " 26  acetohexamide             100766 non-null  object\n",
      " 27  glipizide                 100766 non-null  object\n",
      " 28  glyburide                 100766 non-null  object\n",
      " 29  tolbutamide               100766 non-null  object\n",
      " 30  pioglitazone              100766 non-null  object\n",
      " 31  rosiglitazone             100766 non-null  object\n",
      " 32  acarbose                  100766 non-null  object\n",
      " 33  miglitol                  100766 non-null  object\n",
      " 34  troglitazone              100766 non-null  object\n",
      " 35  tolazamide                100766 non-null  object\n",
      " 36  examide                   100766 non-null  object\n",
      " 37  citoglipton               100766 non-null  object\n",
      " 38  insulin                   100766 non-null  object\n",
      " 39  glyburidemetformin        100766 non-null  object\n",
      " 40  glipizidemetformin        100766 non-null  object\n",
      " 41  glimepiridepioglitazone   100766 non-null  object\n",
      " 42  metforminrosiglitazone    100766 non-null  object\n",
      " 43  metforminpioglitazone     100766 non-null  object\n",
      " 44  change                    100766 non-null  object\n",
      " 45  diabetesMed               100766 non-null  object\n",
      " 46  readmitted                100766 non-null  int64 \n",
      "dtypes: int64(14), object(33)\n",
      "memory usage: 36.1+ MB\n"
     ]
    }
   ],
   "source": [
    "data.info()"
   ]
  },
  {
   "cell_type": "code",
   "execution_count": 4,
   "id": "e011c569",
   "metadata": {},
   "outputs": [
    {
     "data": {
      "text/plain": [
       "0    54233\n",
       "1    46533\n",
       "Name: readmitted, dtype: int64"
      ]
     },
     "execution_count": 4,
     "metadata": {},
     "output_type": "execute_result"
    }
   ],
   "source": [
    "data['readmitted'].value_counts()"
   ]
  },
  {
   "cell_type": "markdown",
   "id": "41183beb",
   "metadata": {},
   "source": [
    "# Data preprocessing"
   ]
  },
  {
   "cell_type": "markdown",
   "id": "32ca3737",
   "metadata": {},
   "source": [
    "#####  Deleting unnecessary columns"
   ]
  },
  {
   "cell_type": "code",
   "execution_count": 5,
   "id": "26e3cc6a",
   "metadata": {},
   "outputs": [],
   "source": [
    "data=data.drop(columns=['encounter_id','patient_nbr','payer_code'])"
   ]
  },
  {
   "cell_type": "markdown",
   "id": "a25ef92c",
   "metadata": {},
   "source": [
    "##### Converting categorical to continuous"
   ]
  },
  {
   "cell_type": "code",
   "execution_count": 6,
   "id": "b70f1b3a",
   "metadata": {},
   "outputs": [],
   "source": [
    "data['race']=data['race'].map({\n",
    "    'Caucasian':'1',\n",
    "    'AfricanAmerican':'2',\n",
    "    'Asian':'3',\n",
    "    'Hispanic':'4'\n",
    "})"
   ]
  },
  {
   "cell_type": "code",
   "execution_count": 7,
   "id": "9383ba02",
   "metadata": {},
   "outputs": [],
   "source": [
    "data['gender']=data['gender'].map({\n",
    "    'Female':'0',\n",
    "    'Male':'1',\n",
    "    'Unknown/Invalid':'2'\n",
    "})"
   ]
  },
  {
   "cell_type": "code",
   "execution_count": 8,
   "id": "d94a4631",
   "metadata": {},
   "outputs": [],
   "source": [
    "data['age']=data['age'].map({\n",
    "    '[0-10)':'0',\n",
    "    '[10-20)':'1',\n",
    "    '[20-30)':'2',\n",
    "    '[30-40)':'3',\n",
    "    '[40-50)':'4',\n",
    "    '[50-60)':'5',\n",
    "    '[60-70)':'6',\n",
    "    '[70-80)':'7',\n",
    "    '[80-90)':'8',\n",
    "    '[90-100)':'9'\n",
    "})"
   ]
  },
  {
   "cell_type": "code",
   "execution_count": 9,
   "id": "1ff085bc",
   "metadata": {},
   "outputs": [
    {
     "data": {
      "text/html": [
       "<div>\n",
       "<style scoped>\n",
       "    .dataframe tbody tr th:only-of-type {\n",
       "        vertical-align: middle;\n",
       "    }\n",
       "\n",
       "    .dataframe tbody tr th {\n",
       "        vertical-align: top;\n",
       "    }\n",
       "\n",
       "    .dataframe thead th {\n",
       "        text-align: right;\n",
       "    }\n",
       "</style>\n",
       "<table border=\"1\" class=\"dataframe\">\n",
       "  <thead>\n",
       "    <tr style=\"text-align: right;\">\n",
       "      <th></th>\n",
       "      <th>medical_AllergyandImmunology</th>\n",
       "      <th>medical_Anesthesiology</th>\n",
       "      <th>medical_Anesthesiology-Pediatric</th>\n",
       "      <th>medical_Cardiology</th>\n",
       "      <th>medical_Cardiology-Pediatric</th>\n",
       "      <th>medical_DCPTEAM</th>\n",
       "      <th>medical_Dentistry</th>\n",
       "      <th>medical_Dermatology</th>\n",
       "      <th>medical_Emergency/Trauma</th>\n",
       "      <th>medical_Endocrinology</th>\n",
       "      <th>...</th>\n",
       "      <th>medical_Surgery-General</th>\n",
       "      <th>medical_Surgery-Maxillofacial</th>\n",
       "      <th>medical_Surgery-Neuro</th>\n",
       "      <th>medical_Surgery-Pediatric</th>\n",
       "      <th>medical_Surgery-Plastic</th>\n",
       "      <th>medical_Surgery-PlasticwithinHeadandNeck</th>\n",
       "      <th>medical_Surgery-Thoracic</th>\n",
       "      <th>medical_Surgery-Vascular</th>\n",
       "      <th>medical_SurgicalSpecialty</th>\n",
       "      <th>medical_Urology</th>\n",
       "    </tr>\n",
       "  </thead>\n",
       "  <tbody>\n",
       "    <tr>\n",
       "      <th>0</th>\n",
       "      <td>0</td>\n",
       "      <td>0</td>\n",
       "      <td>0</td>\n",
       "      <td>0</td>\n",
       "      <td>0</td>\n",
       "      <td>0</td>\n",
       "      <td>0</td>\n",
       "      <td>0</td>\n",
       "      <td>0</td>\n",
       "      <td>0</td>\n",
       "      <td>...</td>\n",
       "      <td>0</td>\n",
       "      <td>0</td>\n",
       "      <td>0</td>\n",
       "      <td>0</td>\n",
       "      <td>0</td>\n",
       "      <td>0</td>\n",
       "      <td>0</td>\n",
       "      <td>0</td>\n",
       "      <td>0</td>\n",
       "      <td>0</td>\n",
       "    </tr>\n",
       "    <tr>\n",
       "      <th>1</th>\n",
       "      <td>0</td>\n",
       "      <td>0</td>\n",
       "      <td>0</td>\n",
       "      <td>0</td>\n",
       "      <td>0</td>\n",
       "      <td>0</td>\n",
       "      <td>0</td>\n",
       "      <td>0</td>\n",
       "      <td>0</td>\n",
       "      <td>0</td>\n",
       "      <td>...</td>\n",
       "      <td>0</td>\n",
       "      <td>0</td>\n",
       "      <td>0</td>\n",
       "      <td>0</td>\n",
       "      <td>0</td>\n",
       "      <td>0</td>\n",
       "      <td>0</td>\n",
       "      <td>0</td>\n",
       "      <td>0</td>\n",
       "      <td>0</td>\n",
       "    </tr>\n",
       "    <tr>\n",
       "      <th>2</th>\n",
       "      <td>0</td>\n",
       "      <td>0</td>\n",
       "      <td>0</td>\n",
       "      <td>0</td>\n",
       "      <td>0</td>\n",
       "      <td>0</td>\n",
       "      <td>0</td>\n",
       "      <td>0</td>\n",
       "      <td>0</td>\n",
       "      <td>0</td>\n",
       "      <td>...</td>\n",
       "      <td>0</td>\n",
       "      <td>0</td>\n",
       "      <td>0</td>\n",
       "      <td>0</td>\n",
       "      <td>0</td>\n",
       "      <td>0</td>\n",
       "      <td>0</td>\n",
       "      <td>0</td>\n",
       "      <td>0</td>\n",
       "      <td>0</td>\n",
       "    </tr>\n",
       "    <tr>\n",
       "      <th>3</th>\n",
       "      <td>0</td>\n",
       "      <td>0</td>\n",
       "      <td>0</td>\n",
       "      <td>0</td>\n",
       "      <td>0</td>\n",
       "      <td>0</td>\n",
       "      <td>0</td>\n",
       "      <td>0</td>\n",
       "      <td>0</td>\n",
       "      <td>0</td>\n",
       "      <td>...</td>\n",
       "      <td>0</td>\n",
       "      <td>0</td>\n",
       "      <td>0</td>\n",
       "      <td>0</td>\n",
       "      <td>0</td>\n",
       "      <td>0</td>\n",
       "      <td>0</td>\n",
       "      <td>0</td>\n",
       "      <td>0</td>\n",
       "      <td>0</td>\n",
       "    </tr>\n",
       "    <tr>\n",
       "      <th>4</th>\n",
       "      <td>0</td>\n",
       "      <td>0</td>\n",
       "      <td>0</td>\n",
       "      <td>0</td>\n",
       "      <td>0</td>\n",
       "      <td>0</td>\n",
       "      <td>0</td>\n",
       "      <td>0</td>\n",
       "      <td>0</td>\n",
       "      <td>0</td>\n",
       "      <td>...</td>\n",
       "      <td>0</td>\n",
       "      <td>0</td>\n",
       "      <td>0</td>\n",
       "      <td>0</td>\n",
       "      <td>0</td>\n",
       "      <td>0</td>\n",
       "      <td>0</td>\n",
       "      <td>0</td>\n",
       "      <td>0</td>\n",
       "      <td>0</td>\n",
       "    </tr>\n",
       "  </tbody>\n",
       "</table>\n",
       "<p>5 rows × 72 columns</p>\n",
       "</div>"
      ],
      "text/plain": [
       "   medical_AllergyandImmunology  medical_Anesthesiology  \\\n",
       "0                             0                       0   \n",
       "1                             0                       0   \n",
       "2                             0                       0   \n",
       "3                             0                       0   \n",
       "4                             0                       0   \n",
       "\n",
       "   medical_Anesthesiology-Pediatric  medical_Cardiology  \\\n",
       "0                                 0                   0   \n",
       "1                                 0                   0   \n",
       "2                                 0                   0   \n",
       "3                                 0                   0   \n",
       "4                                 0                   0   \n",
       "\n",
       "   medical_Cardiology-Pediatric  medical_DCPTEAM  medical_Dentistry  \\\n",
       "0                             0                0                  0   \n",
       "1                             0                0                  0   \n",
       "2                             0                0                  0   \n",
       "3                             0                0                  0   \n",
       "4                             0                0                  0   \n",
       "\n",
       "   medical_Dermatology  medical_Emergency/Trauma  medical_Endocrinology  ...  \\\n",
       "0                    0                         0                      0  ...   \n",
       "1                    0                         0                      0  ...   \n",
       "2                    0                         0                      0  ...   \n",
       "3                    0                         0                      0  ...   \n",
       "4                    0                         0                      0  ...   \n",
       "\n",
       "   medical_Surgery-General  medical_Surgery-Maxillofacial  \\\n",
       "0                        0                              0   \n",
       "1                        0                              0   \n",
       "2                        0                              0   \n",
       "3                        0                              0   \n",
       "4                        0                              0   \n",
       "\n",
       "   medical_Surgery-Neuro  medical_Surgery-Pediatric  medical_Surgery-Plastic  \\\n",
       "0                      0                          0                        0   \n",
       "1                      0                          0                        0   \n",
       "2                      0                          0                        0   \n",
       "3                      0                          0                        0   \n",
       "4                      0                          0                        0   \n",
       "\n",
       "   medical_Surgery-PlasticwithinHeadandNeck  medical_Surgery-Thoracic  \\\n",
       "0                                         0                         0   \n",
       "1                                         0                         0   \n",
       "2                                         0                         0   \n",
       "3                                         0                         0   \n",
       "4                                         0                         0   \n",
       "\n",
       "   medical_Surgery-Vascular  medical_SurgicalSpecialty  medical_Urology  \n",
       "0                         0                          0                0  \n",
       "1                         0                          0                0  \n",
       "2                         0                          0                0  \n",
       "3                         0                          0                0  \n",
       "4                         0                          0                0  \n",
       "\n",
       "[5 rows x 72 columns]"
      ]
     },
     "execution_count": 9,
     "metadata": {},
     "output_type": "execute_result"
    }
   ],
   "source": [
    "data_medical_speciality= pd.get_dummies( data['medical_specialty'], drop_first = True, prefix = 'medical')\n",
    "data_medical_speciality.head()"
   ]
  },
  {
   "cell_type": "code",
   "execution_count": 10,
   "id": "1cc4da48",
   "metadata": {},
   "outputs": [],
   "source": [
    "data=pd.concat([data,data_medical_speciality],axis=1)\n",
    "data=data.drop(columns=['medical_specialty'])"
   ]
  },
  {
   "cell_type": "code",
   "execution_count": 11,
   "id": "f74dd7ea",
   "metadata": {},
   "outputs": [],
   "source": [
    "data['maxgluserum']=data['maxgluserum'].map({\n",
    "    'None':'0', \n",
    "    '>300':'1',\n",
    "    'Norm':'2',\n",
    "    '>200':'3'\n",
    "})"
   ]
  },
  {
   "cell_type": "code",
   "execution_count": 12,
   "id": "6e249194",
   "metadata": {},
   "outputs": [],
   "source": [
    "data['A1Cresult']=data['A1Cresult'].map({\n",
    "    'None':'0', \n",
    "    '>7':'1',\n",
    "    '8':'2',\n",
    "    'Norm':'3'\n",
    "})"
   ]
  },
  {
   "cell_type": "code",
   "execution_count": 13,
   "id": "1d7bbd7e",
   "metadata": {},
   "outputs": [],
   "source": [
    "columns=['metformin','repaglinide','nateglinide',\n",
    "       'chlorpropamide', 'glimepiride', 'acetohexamide', 'glipizide',\n",
    "       'glyburide', 'tolbutamide', 'pioglitazone', 'rosiglitazone', 'acarbose',\n",
    "       'miglitol', 'troglitazone', 'tolazamide', 'examide', 'citoglipton',\n",
    "       'insulin', 'glyburidemetformin', 'glipizidemetformin',\n",
    "       'glimepiridepioglitazone', 'metforminrosiglitazone',\n",
    "       'metforminpioglitazone']\n",
    "\n",
    "\n",
    "for col in columns:\n",
    "    data[col]=data[col].map({\n",
    "        'No':'0',\n",
    "        'Steady':'1',\n",
    "        'Up':'2',\n",
    "        'Down':'3'\n",
    "    })"
   ]
  },
  {
   "cell_type": "code",
   "execution_count": 14,
   "id": "2b3b7b50",
   "metadata": {},
   "outputs": [],
   "source": [
    "data['change']=data['change'].map({\n",
    "    'No':'0',\n",
    "    'Ch':'1'\n",
    "})"
   ]
  },
  {
   "cell_type": "code",
   "execution_count": 15,
   "id": "72d92829",
   "metadata": {},
   "outputs": [],
   "source": [
    "data['diabetesMed']=data['diabetesMed'].map({\n",
    "    'No':'0',\n",
    "    'Yes':'1'\n",
    "})"
   ]
  },
  {
   "cell_type": "code",
   "execution_count": 16,
   "id": "8b36bb58",
   "metadata": {},
   "outputs": [],
   "source": [
    "data['weight']=data['weight'].map({\n",
    "    '[0-25)':'1',\n",
    "    '[25-50)':'2',\n",
    "    '[50-75)':'3',\n",
    "    '[75-100)':'4',\n",
    "    '[100-125)':'5',\n",
    "    '[125-150)':'6',\n",
    "    '[175-200)':'7',\n",
    "    '[150-175)':'8',\n",
    "    '>200':'9'\n",
    "})"
   ]
  },
  {
   "cell_type": "code",
   "execution_count": 17,
   "id": "61ef7bc0",
   "metadata": {},
   "outputs": [],
   "source": [
    "data=data.replace('?',np.nan)"
   ]
  },
  {
   "cell_type": "code",
   "execution_count": 18,
   "id": "6641d0b5",
   "metadata": {},
   "outputs": [
    {
     "data": {
      "text/plain": [
       "race                                        3704\n",
       "gender                                         0\n",
       "age                                            0\n",
       "weight                                      2123\n",
       "admission_type_id                              0\n",
       "                                            ... \n",
       "medical_Surgery-PlasticwithinHeadandNeck       0\n",
       "medical_Surgery-Thoracic                       0\n",
       "medical_Surgery-Vascular                       0\n",
       "medical_SurgicalSpecialty                      0\n",
       "medical_Urology                                0\n",
       "Length: 115, dtype: int64"
      ]
     },
     "execution_count": 18,
     "metadata": {},
     "output_type": "execute_result"
    }
   ],
   "source": [
    "data.isna().sum()"
   ]
  },
  {
   "cell_type": "code",
   "execution_count": 22,
   "id": "10f32d8d",
   "metadata": {},
   "outputs": [
    {
     "data": {
      "text/html": [
       "<div>\n",
       "<style scoped>\n",
       "    .dataframe tbody tr th:only-of-type {\n",
       "        vertical-align: middle;\n",
       "    }\n",
       "\n",
       "    .dataframe tbody tr th {\n",
       "        vertical-align: top;\n",
       "    }\n",
       "\n",
       "    .dataframe thead th {\n",
       "        text-align: right;\n",
       "    }\n",
       "</style>\n",
       "<table border=\"1\" class=\"dataframe\">\n",
       "  <thead>\n",
       "    <tr style=\"text-align: right;\">\n",
       "      <th></th>\n",
       "      <th>race</th>\n",
       "      <th>gender</th>\n",
       "      <th>age</th>\n",
       "      <th>weight</th>\n",
       "      <th>admission_type_id</th>\n",
       "      <th>discharge_disposition_id</th>\n",
       "      <th>admission_source_id</th>\n",
       "      <th>time_in_hospital</th>\n",
       "      <th>num_lab_procedures</th>\n",
       "      <th>num_procedures</th>\n",
       "      <th>...</th>\n",
       "      <th>medical_Surgery-General</th>\n",
       "      <th>medical_Surgery-Maxillofacial</th>\n",
       "      <th>medical_Surgery-Neuro</th>\n",
       "      <th>medical_Surgery-Pediatric</th>\n",
       "      <th>medical_Surgery-Plastic</th>\n",
       "      <th>medical_Surgery-PlasticwithinHeadandNeck</th>\n",
       "      <th>medical_Surgery-Thoracic</th>\n",
       "      <th>medical_Surgery-Vascular</th>\n",
       "      <th>medical_SurgicalSpecialty</th>\n",
       "      <th>medical_Urology</th>\n",
       "    </tr>\n",
       "  </thead>\n",
       "  <tbody>\n",
       "    <tr>\n",
       "      <th>0</th>\n",
       "      <td>1</td>\n",
       "      <td>0</td>\n",
       "      <td>0</td>\n",
       "      <td>1</td>\n",
       "      <td>6</td>\n",
       "      <td>25</td>\n",
       "      <td>1</td>\n",
       "      <td>1</td>\n",
       "      <td>41</td>\n",
       "      <td>0</td>\n",
       "      <td>...</td>\n",
       "      <td>0</td>\n",
       "      <td>0</td>\n",
       "      <td>0</td>\n",
       "      <td>0</td>\n",
       "      <td>0</td>\n",
       "      <td>0</td>\n",
       "      <td>0</td>\n",
       "      <td>0</td>\n",
       "      <td>0</td>\n",
       "      <td>0</td>\n",
       "    </tr>\n",
       "    <tr>\n",
       "      <th>1</th>\n",
       "      <td>1</td>\n",
       "      <td>0</td>\n",
       "      <td>1</td>\n",
       "      <td>3</td>\n",
       "      <td>1</td>\n",
       "      <td>1</td>\n",
       "      <td>7</td>\n",
       "      <td>3</td>\n",
       "      <td>59</td>\n",
       "      <td>0</td>\n",
       "      <td>...</td>\n",
       "      <td>0</td>\n",
       "      <td>0</td>\n",
       "      <td>0</td>\n",
       "      <td>0</td>\n",
       "      <td>0</td>\n",
       "      <td>0</td>\n",
       "      <td>0</td>\n",
       "      <td>0</td>\n",
       "      <td>0</td>\n",
       "      <td>0</td>\n",
       "    </tr>\n",
       "    <tr>\n",
       "      <th>2</th>\n",
       "      <td>2</td>\n",
       "      <td>0</td>\n",
       "      <td>2</td>\n",
       "      <td>4</td>\n",
       "      <td>1</td>\n",
       "      <td>1</td>\n",
       "      <td>7</td>\n",
       "      <td>2</td>\n",
       "      <td>11</td>\n",
       "      <td>5</td>\n",
       "      <td>...</td>\n",
       "      <td>0</td>\n",
       "      <td>0</td>\n",
       "      <td>0</td>\n",
       "      <td>0</td>\n",
       "      <td>0</td>\n",
       "      <td>0</td>\n",
       "      <td>0</td>\n",
       "      <td>0</td>\n",
       "      <td>0</td>\n",
       "      <td>0</td>\n",
       "    </tr>\n",
       "    <tr>\n",
       "      <th>3</th>\n",
       "      <td>1</td>\n",
       "      <td>1</td>\n",
       "      <td>3</td>\n",
       "      <td>3</td>\n",
       "      <td>1</td>\n",
       "      <td>1</td>\n",
       "      <td>7</td>\n",
       "      <td>2</td>\n",
       "      <td>44</td>\n",
       "      <td>1</td>\n",
       "      <td>...</td>\n",
       "      <td>0</td>\n",
       "      <td>0</td>\n",
       "      <td>0</td>\n",
       "      <td>0</td>\n",
       "      <td>0</td>\n",
       "      <td>0</td>\n",
       "      <td>0</td>\n",
       "      <td>0</td>\n",
       "      <td>0</td>\n",
       "      <td>0</td>\n",
       "    </tr>\n",
       "    <tr>\n",
       "      <th>4</th>\n",
       "      <td>1</td>\n",
       "      <td>1</td>\n",
       "      <td>4</td>\n",
       "      <td>4</td>\n",
       "      <td>1</td>\n",
       "      <td>1</td>\n",
       "      <td>7</td>\n",
       "      <td>1</td>\n",
       "      <td>51</td>\n",
       "      <td>0</td>\n",
       "      <td>...</td>\n",
       "      <td>0</td>\n",
       "      <td>0</td>\n",
       "      <td>0</td>\n",
       "      <td>0</td>\n",
       "      <td>0</td>\n",
       "      <td>0</td>\n",
       "      <td>0</td>\n",
       "      <td>0</td>\n",
       "      <td>0</td>\n",
       "      <td>0</td>\n",
       "    </tr>\n",
       "  </tbody>\n",
       "</table>\n",
       "<p>5 rows × 115 columns</p>\n",
       "</div>"
      ],
      "text/plain": [
       "  race gender age weight  admission_type_id  discharge_disposition_id  \\\n",
       "0    1      0   0      1                  6                        25   \n",
       "1    1      0   1      3                  1                         1   \n",
       "2    2      0   2      4                  1                         1   \n",
       "3    1      1   3      3                  1                         1   \n",
       "4    1      1   4      4                  1                         1   \n",
       "\n",
       "   admission_source_id  time_in_hospital  num_lab_procedures  num_procedures  \\\n",
       "0                    1                 1                  41               0   \n",
       "1                    7                 3                  59               0   \n",
       "2                    7                 2                  11               5   \n",
       "3                    7                 2                  44               1   \n",
       "4                    7                 1                  51               0   \n",
       "\n",
       "   ...  medical_Surgery-General  medical_Surgery-Maxillofacial  \\\n",
       "0  ...                        0                              0   \n",
       "1  ...                        0                              0   \n",
       "2  ...                        0                              0   \n",
       "3  ...                        0                              0   \n",
       "4  ...                        0                              0   \n",
       "\n",
       "   medical_Surgery-Neuro  medical_Surgery-Pediatric  medical_Surgery-Plastic  \\\n",
       "0                      0                          0                        0   \n",
       "1                      0                          0                        0   \n",
       "2                      0                          0                        0   \n",
       "3                      0                          0                        0   \n",
       "4                      0                          0                        0   \n",
       "\n",
       "  medical_Surgery-PlasticwithinHeadandNeck medical_Surgery-Thoracic  \\\n",
       "0                                        0                        0   \n",
       "1                                        0                        0   \n",
       "2                                        0                        0   \n",
       "3                                        0                        0   \n",
       "4                                        0                        0   \n",
       "\n",
       "  medical_Surgery-Vascular medical_SurgicalSpecialty medical_Urology  \n",
       "0                        0                         0               0  \n",
       "1                        0                         0               0  \n",
       "2                        0                         0               0  \n",
       "3                        0                         0               0  \n",
       "4                        0                         0               0  \n",
       "\n",
       "[5 rows x 115 columns]"
      ]
     },
     "execution_count": 22,
     "metadata": {},
     "output_type": "execute_result"
    }
   ],
   "source": [
    "data.head()"
   ]
  },
  {
   "cell_type": "markdown",
   "id": "b582340a",
   "metadata": {},
   "source": [
    "##### Converting all columns to numeric"
   ]
  },
  {
   "cell_type": "code",
   "execution_count": 19,
   "id": "608b5754",
   "metadata": {},
   "outputs": [],
   "source": [
    "columns=data.columns\n",
    "\n",
    "for i in columns:\n",
    "    data[i]=pd.to_numeric(data[i])"
   ]
  },
  {
   "cell_type": "markdown",
   "id": "ca28323b",
   "metadata": {},
   "source": [
    "##### Replacing missing values with mean"
   ]
  },
  {
   "cell_type": "code",
   "execution_count": 20,
   "id": "bd188ebd",
   "metadata": {},
   "outputs": [
    {
     "data": {
      "text/plain": [
       "Index(['race', 'gender', 'age', 'weight', 'admission_type_id',\n",
       "       'discharge_disposition_id', 'admission_source_id', 'time_in_hospital',\n",
       "       'num_lab_procedures', 'num_procedures',\n",
       "       ...\n",
       "       'medical_Surgery-General', 'medical_Surgery-Maxillofacial',\n",
       "       'medical_Surgery-Neuro', 'medical_Surgery-Pediatric',\n",
       "       'medical_Surgery-Plastic', 'medical_Surgery-PlasticwithinHeadandNeck',\n",
       "       'medical_Surgery-Thoracic', 'medical_Surgery-Vascular',\n",
       "       'medical_SurgicalSpecialty', 'medical_Urology'],\n",
       "      dtype='object', length=115)"
      ]
     },
     "execution_count": 20,
     "metadata": {},
     "output_type": "execute_result"
    }
   ],
   "source": [
    "data.columns"
   ]
  },
  {
   "cell_type": "code",
   "execution_count": 21,
   "id": "96cbec13",
   "metadata": {},
   "outputs": [],
   "source": [
    "col_con=['admission_type_id','discharge_disposition_id','admission_source_id','time_in_hospital','num_lab_procedures', 'num_procedures', 'num_medications',\n",
    "        'number_outpatient','number_outpatient','number_emergency','number_inpatient','number_diagnoses']\n",
    "\n",
    "for col in col_con:\n",
    "    data[col] = data[col].replace(np.nan, data[col].mean())\n",
    "    \n",
    "col_cat=['race','gender','age','weight','maxgluserum','A1Cresult','metformin','repaglinide','nateglinide',\n",
    "       'chlorpropamide', 'glimepiride', 'acetohexamide', 'glipizide',\n",
    "       'glyburide', 'tolbutamide', 'pioglitazone', 'rosiglitazone', 'acarbose',\n",
    "       'miglitol', 'troglitazone', 'tolazamide', 'examide', 'citoglipton',\n",
    "       'insulin', 'glyburidemetformin', 'glipizidemetformin',\n",
    "       'glimepiridepioglitazone', 'metforminrosiglitazone',\n",
    "       'metforminpioglitazone','change','diabetesMed']\n",
    "\n",
    "for col in col_cat:\n",
    "    data[col] = data[col].replace(np.nan, data[col].median())"
   ]
  },
  {
   "cell_type": "code",
   "execution_count": 22,
   "id": "b124c8f6",
   "metadata": {},
   "outputs": [
    {
     "data": {
      "text/html": [
       "<div>\n",
       "<style scoped>\n",
       "    .dataframe tbody tr th:only-of-type {\n",
       "        vertical-align: middle;\n",
       "    }\n",
       "\n",
       "    .dataframe tbody tr th {\n",
       "        vertical-align: top;\n",
       "    }\n",
       "\n",
       "    .dataframe thead th {\n",
       "        text-align: right;\n",
       "    }\n",
       "</style>\n",
       "<table border=\"1\" class=\"dataframe\">\n",
       "  <thead>\n",
       "    <tr style=\"text-align: right;\">\n",
       "      <th></th>\n",
       "      <th>race</th>\n",
       "      <th>gender</th>\n",
       "      <th>age</th>\n",
       "      <th>weight</th>\n",
       "      <th>admission_type_id</th>\n",
       "      <th>discharge_disposition_id</th>\n",
       "      <th>admission_source_id</th>\n",
       "      <th>time_in_hospital</th>\n",
       "      <th>num_lab_procedures</th>\n",
       "      <th>num_procedures</th>\n",
       "      <th>...</th>\n",
       "      <th>medical_Surgery-General</th>\n",
       "      <th>medical_Surgery-Maxillofacial</th>\n",
       "      <th>medical_Surgery-Neuro</th>\n",
       "      <th>medical_Surgery-Pediatric</th>\n",
       "      <th>medical_Surgery-Plastic</th>\n",
       "      <th>medical_Surgery-PlasticwithinHeadandNeck</th>\n",
       "      <th>medical_Surgery-Thoracic</th>\n",
       "      <th>medical_Surgery-Vascular</th>\n",
       "      <th>medical_SurgicalSpecialty</th>\n",
       "      <th>medical_Urology</th>\n",
       "    </tr>\n",
       "  </thead>\n",
       "  <tbody>\n",
       "    <tr>\n",
       "      <th>0</th>\n",
       "      <td>1.0</td>\n",
       "      <td>0</td>\n",
       "      <td>0</td>\n",
       "      <td>1.0</td>\n",
       "      <td>6</td>\n",
       "      <td>25</td>\n",
       "      <td>1</td>\n",
       "      <td>1</td>\n",
       "      <td>41</td>\n",
       "      <td>0</td>\n",
       "      <td>...</td>\n",
       "      <td>0</td>\n",
       "      <td>0</td>\n",
       "      <td>0</td>\n",
       "      <td>0</td>\n",
       "      <td>0</td>\n",
       "      <td>0</td>\n",
       "      <td>0</td>\n",
       "      <td>0</td>\n",
       "      <td>0</td>\n",
       "      <td>0</td>\n",
       "    </tr>\n",
       "    <tr>\n",
       "      <th>1</th>\n",
       "      <td>1.0</td>\n",
       "      <td>0</td>\n",
       "      <td>1</td>\n",
       "      <td>3.0</td>\n",
       "      <td>1</td>\n",
       "      <td>1</td>\n",
       "      <td>7</td>\n",
       "      <td>3</td>\n",
       "      <td>59</td>\n",
       "      <td>0</td>\n",
       "      <td>...</td>\n",
       "      <td>0</td>\n",
       "      <td>0</td>\n",
       "      <td>0</td>\n",
       "      <td>0</td>\n",
       "      <td>0</td>\n",
       "      <td>0</td>\n",
       "      <td>0</td>\n",
       "      <td>0</td>\n",
       "      <td>0</td>\n",
       "      <td>0</td>\n",
       "    </tr>\n",
       "    <tr>\n",
       "      <th>2</th>\n",
       "      <td>2.0</td>\n",
       "      <td>0</td>\n",
       "      <td>2</td>\n",
       "      <td>4.0</td>\n",
       "      <td>1</td>\n",
       "      <td>1</td>\n",
       "      <td>7</td>\n",
       "      <td>2</td>\n",
       "      <td>11</td>\n",
       "      <td>5</td>\n",
       "      <td>...</td>\n",
       "      <td>0</td>\n",
       "      <td>0</td>\n",
       "      <td>0</td>\n",
       "      <td>0</td>\n",
       "      <td>0</td>\n",
       "      <td>0</td>\n",
       "      <td>0</td>\n",
       "      <td>0</td>\n",
       "      <td>0</td>\n",
       "      <td>0</td>\n",
       "    </tr>\n",
       "    <tr>\n",
       "      <th>3</th>\n",
       "      <td>1.0</td>\n",
       "      <td>1</td>\n",
       "      <td>3</td>\n",
       "      <td>3.0</td>\n",
       "      <td>1</td>\n",
       "      <td>1</td>\n",
       "      <td>7</td>\n",
       "      <td>2</td>\n",
       "      <td>44</td>\n",
       "      <td>1</td>\n",
       "      <td>...</td>\n",
       "      <td>0</td>\n",
       "      <td>0</td>\n",
       "      <td>0</td>\n",
       "      <td>0</td>\n",
       "      <td>0</td>\n",
       "      <td>0</td>\n",
       "      <td>0</td>\n",
       "      <td>0</td>\n",
       "      <td>0</td>\n",
       "      <td>0</td>\n",
       "    </tr>\n",
       "    <tr>\n",
       "      <th>4</th>\n",
       "      <td>1.0</td>\n",
       "      <td>1</td>\n",
       "      <td>4</td>\n",
       "      <td>4.0</td>\n",
       "      <td>1</td>\n",
       "      <td>1</td>\n",
       "      <td>7</td>\n",
       "      <td>1</td>\n",
       "      <td>51</td>\n",
       "      <td>0</td>\n",
       "      <td>...</td>\n",
       "      <td>0</td>\n",
       "      <td>0</td>\n",
       "      <td>0</td>\n",
       "      <td>0</td>\n",
       "      <td>0</td>\n",
       "      <td>0</td>\n",
       "      <td>0</td>\n",
       "      <td>0</td>\n",
       "      <td>0</td>\n",
       "      <td>0</td>\n",
       "    </tr>\n",
       "  </tbody>\n",
       "</table>\n",
       "<p>5 rows × 115 columns</p>\n",
       "</div>"
      ],
      "text/plain": [
       "   race  gender  age  weight  admission_type_id  discharge_disposition_id  \\\n",
       "0   1.0       0    0     1.0                  6                        25   \n",
       "1   1.0       0    1     3.0                  1                         1   \n",
       "2   2.0       0    2     4.0                  1                         1   \n",
       "3   1.0       1    3     3.0                  1                         1   \n",
       "4   1.0       1    4     4.0                  1                         1   \n",
       "\n",
       "   admission_source_id  time_in_hospital  num_lab_procedures  num_procedures  \\\n",
       "0                    1                 1                  41               0   \n",
       "1                    7                 3                  59               0   \n",
       "2                    7                 2                  11               5   \n",
       "3                    7                 2                  44               1   \n",
       "4                    7                 1                  51               0   \n",
       "\n",
       "   ...  medical_Surgery-General  medical_Surgery-Maxillofacial  \\\n",
       "0  ...                        0                              0   \n",
       "1  ...                        0                              0   \n",
       "2  ...                        0                              0   \n",
       "3  ...                        0                              0   \n",
       "4  ...                        0                              0   \n",
       "\n",
       "   medical_Surgery-Neuro  medical_Surgery-Pediatric  medical_Surgery-Plastic  \\\n",
       "0                      0                          0                        0   \n",
       "1                      0                          0                        0   \n",
       "2                      0                          0                        0   \n",
       "3                      0                          0                        0   \n",
       "4                      0                          0                        0   \n",
       "\n",
       "   medical_Surgery-PlasticwithinHeadandNeck  medical_Surgery-Thoracic  \\\n",
       "0                                         0                         0   \n",
       "1                                         0                         0   \n",
       "2                                         0                         0   \n",
       "3                                         0                         0   \n",
       "4                                         0                         0   \n",
       "\n",
       "   medical_Surgery-Vascular  medical_SurgicalSpecialty  medical_Urology  \n",
       "0                         0                          0                0  \n",
       "1                         0                          0                0  \n",
       "2                         0                          0                0  \n",
       "3                         0                          0                0  \n",
       "4                         0                          0                0  \n",
       "\n",
       "[5 rows x 115 columns]"
      ]
     },
     "execution_count": 22,
     "metadata": {},
     "output_type": "execute_result"
    }
   ],
   "source": [
    "data.head()"
   ]
  },
  {
   "cell_type": "code",
   "execution_count": 23,
   "id": "a69246aa",
   "metadata": {},
   "outputs": [
    {
     "data": {
      "text/html": [
       "<div>\n",
       "<style scoped>\n",
       "    .dataframe tbody tr th:only-of-type {\n",
       "        vertical-align: middle;\n",
       "    }\n",
       "\n",
       "    .dataframe tbody tr th {\n",
       "        vertical-align: top;\n",
       "    }\n",
       "\n",
       "    .dataframe thead th {\n",
       "        text-align: right;\n",
       "    }\n",
       "</style>\n",
       "<table border=\"1\" class=\"dataframe\">\n",
       "  <thead>\n",
       "    <tr style=\"text-align: right;\">\n",
       "      <th></th>\n",
       "      <th>race</th>\n",
       "      <th>gender</th>\n",
       "      <th>age</th>\n",
       "      <th>weight</th>\n",
       "      <th>admission_type_id</th>\n",
       "      <th>discharge_disposition_id</th>\n",
       "      <th>admission_source_id</th>\n",
       "      <th>time_in_hospital</th>\n",
       "      <th>num_lab_procedures</th>\n",
       "      <th>num_procedures</th>\n",
       "      <th>...</th>\n",
       "      <th>medical_Surgery-General</th>\n",
       "      <th>medical_Surgery-Maxillofacial</th>\n",
       "      <th>medical_Surgery-Neuro</th>\n",
       "      <th>medical_Surgery-Pediatric</th>\n",
       "      <th>medical_Surgery-Plastic</th>\n",
       "      <th>medical_Surgery-PlasticwithinHeadandNeck</th>\n",
       "      <th>medical_Surgery-Thoracic</th>\n",
       "      <th>medical_Surgery-Vascular</th>\n",
       "      <th>medical_SurgicalSpecialty</th>\n",
       "      <th>medical_Urology</th>\n",
       "    </tr>\n",
       "  </thead>\n",
       "  <tbody>\n",
       "    <tr>\n",
       "      <th>count</th>\n",
       "      <td>100766.000000</td>\n",
       "      <td>100766.000000</td>\n",
       "      <td>100766.000000</td>\n",
       "      <td>100766.000000</td>\n",
       "      <td>100766.000000</td>\n",
       "      <td>100766.000000</td>\n",
       "      <td>100766.000000</td>\n",
       "      <td>100766.000000</td>\n",
       "      <td>100766.000000</td>\n",
       "      <td>100766.000000</td>\n",
       "      <td>...</td>\n",
       "      <td>100766.000000</td>\n",
       "      <td>100766.000000</td>\n",
       "      <td>100766.000000</td>\n",
       "      <td>100766.000000</td>\n",
       "      <td>100766.000000</td>\n",
       "      <td>100766.00000</td>\n",
       "      <td>100766.000000</td>\n",
       "      <td>100766.000000</td>\n",
       "      <td>100766.000000</td>\n",
       "      <td>100766.000000</td>\n",
       "    </tr>\n",
       "    <tr>\n",
       "      <th>mean</th>\n",
       "      <td>1.261457</td>\n",
       "      <td>0.462418</td>\n",
       "      <td>6.095290</td>\n",
       "      <td>3.837445</td>\n",
       "      <td>2.027757</td>\n",
       "      <td>3.724659</td>\n",
       "      <td>5.755801</td>\n",
       "      <td>4.398676</td>\n",
       "      <td>43.100113</td>\n",
       "      <td>1.339648</td>\n",
       "      <td>...</td>\n",
       "      <td>0.030496</td>\n",
       "      <td>0.000109</td>\n",
       "      <td>0.004644</td>\n",
       "      <td>0.000079</td>\n",
       "      <td>0.000407</td>\n",
       "      <td>0.00001</td>\n",
       "      <td>0.001062</td>\n",
       "      <td>0.005289</td>\n",
       "      <td>0.000308</td>\n",
       "      <td>0.006788</td>\n",
       "    </tr>\n",
       "    <tr>\n",
       "      <th>std</th>\n",
       "      <td>0.569835</td>\n",
       "      <td>0.498648</td>\n",
       "      <td>1.594105</td>\n",
       "      <td>0.502120</td>\n",
       "      <td>1.447976</td>\n",
       "      <td>5.292776</td>\n",
       "      <td>4.072145</td>\n",
       "      <td>2.986665</td>\n",
       "      <td>19.656306</td>\n",
       "      <td>1.704756</td>\n",
       "      <td>...</td>\n",
       "      <td>0.171950</td>\n",
       "      <td>0.010448</td>\n",
       "      <td>0.067992</td>\n",
       "      <td>0.008910</td>\n",
       "      <td>0.020167</td>\n",
       "      <td>0.00315</td>\n",
       "      <td>0.032569</td>\n",
       "      <td>0.072537</td>\n",
       "      <td>0.017537</td>\n",
       "      <td>0.082110</td>\n",
       "    </tr>\n",
       "    <tr>\n",
       "      <th>min</th>\n",
       "      <td>1.000000</td>\n",
       "      <td>0.000000</td>\n",
       "      <td>0.000000</td>\n",
       "      <td>1.000000</td>\n",
       "      <td>1.000000</td>\n",
       "      <td>1.000000</td>\n",
       "      <td>1.000000</td>\n",
       "      <td>1.000000</td>\n",
       "      <td>1.000000</td>\n",
       "      <td>0.000000</td>\n",
       "      <td>...</td>\n",
       "      <td>0.000000</td>\n",
       "      <td>0.000000</td>\n",
       "      <td>0.000000</td>\n",
       "      <td>0.000000</td>\n",
       "      <td>0.000000</td>\n",
       "      <td>0.00000</td>\n",
       "      <td>0.000000</td>\n",
       "      <td>0.000000</td>\n",
       "      <td>0.000000</td>\n",
       "      <td>0.000000</td>\n",
       "    </tr>\n",
       "    <tr>\n",
       "      <th>25%</th>\n",
       "      <td>1.000000</td>\n",
       "      <td>0.000000</td>\n",
       "      <td>5.000000</td>\n",
       "      <td>4.000000</td>\n",
       "      <td>1.000000</td>\n",
       "      <td>1.000000</td>\n",
       "      <td>1.000000</td>\n",
       "      <td>2.000000</td>\n",
       "      <td>31.000000</td>\n",
       "      <td>0.000000</td>\n",
       "      <td>...</td>\n",
       "      <td>0.000000</td>\n",
       "      <td>0.000000</td>\n",
       "      <td>0.000000</td>\n",
       "      <td>0.000000</td>\n",
       "      <td>0.000000</td>\n",
       "      <td>0.00000</td>\n",
       "      <td>0.000000</td>\n",
       "      <td>0.000000</td>\n",
       "      <td>0.000000</td>\n",
       "      <td>0.000000</td>\n",
       "    </tr>\n",
       "    <tr>\n",
       "      <th>50%</th>\n",
       "      <td>1.000000</td>\n",
       "      <td>0.000000</td>\n",
       "      <td>6.000000</td>\n",
       "      <td>4.000000</td>\n",
       "      <td>1.000000</td>\n",
       "      <td>1.000000</td>\n",
       "      <td>7.000000</td>\n",
       "      <td>4.000000</td>\n",
       "      <td>44.000000</td>\n",
       "      <td>1.000000</td>\n",
       "      <td>...</td>\n",
       "      <td>0.000000</td>\n",
       "      <td>0.000000</td>\n",
       "      <td>0.000000</td>\n",
       "      <td>0.000000</td>\n",
       "      <td>0.000000</td>\n",
       "      <td>0.00000</td>\n",
       "      <td>0.000000</td>\n",
       "      <td>0.000000</td>\n",
       "      <td>0.000000</td>\n",
       "      <td>0.000000</td>\n",
       "    </tr>\n",
       "    <tr>\n",
       "      <th>75%</th>\n",
       "      <td>1.000000</td>\n",
       "      <td>1.000000</td>\n",
       "      <td>7.000000</td>\n",
       "      <td>4.000000</td>\n",
       "      <td>3.000000</td>\n",
       "      <td>4.000000</td>\n",
       "      <td>7.000000</td>\n",
       "      <td>6.000000</td>\n",
       "      <td>57.000000</td>\n",
       "      <td>2.000000</td>\n",
       "      <td>...</td>\n",
       "      <td>0.000000</td>\n",
       "      <td>0.000000</td>\n",
       "      <td>0.000000</td>\n",
       "      <td>0.000000</td>\n",
       "      <td>0.000000</td>\n",
       "      <td>0.00000</td>\n",
       "      <td>0.000000</td>\n",
       "      <td>0.000000</td>\n",
       "      <td>0.000000</td>\n",
       "      <td>0.000000</td>\n",
       "    </tr>\n",
       "    <tr>\n",
       "      <th>max</th>\n",
       "      <td>4.000000</td>\n",
       "      <td>2.000000</td>\n",
       "      <td>9.000000</td>\n",
       "      <td>9.000000</td>\n",
       "      <td>8.000000</td>\n",
       "      <td>28.000000</td>\n",
       "      <td>25.000000</td>\n",
       "      <td>14.000000</td>\n",
       "      <td>132.000000</td>\n",
       "      <td>6.000000</td>\n",
       "      <td>...</td>\n",
       "      <td>1.000000</td>\n",
       "      <td>1.000000</td>\n",
       "      <td>1.000000</td>\n",
       "      <td>1.000000</td>\n",
       "      <td>1.000000</td>\n",
       "      <td>1.00000</td>\n",
       "      <td>1.000000</td>\n",
       "      <td>1.000000</td>\n",
       "      <td>1.000000</td>\n",
       "      <td>1.000000</td>\n",
       "    </tr>\n",
       "  </tbody>\n",
       "</table>\n",
       "<p>8 rows × 115 columns</p>\n",
       "</div>"
      ],
      "text/plain": [
       "                race         gender            age         weight  \\\n",
       "count  100766.000000  100766.000000  100766.000000  100766.000000   \n",
       "mean        1.261457       0.462418       6.095290       3.837445   \n",
       "std         0.569835       0.498648       1.594105       0.502120   \n",
       "min         1.000000       0.000000       0.000000       1.000000   \n",
       "25%         1.000000       0.000000       5.000000       4.000000   \n",
       "50%         1.000000       0.000000       6.000000       4.000000   \n",
       "75%         1.000000       1.000000       7.000000       4.000000   \n",
       "max         4.000000       2.000000       9.000000       9.000000   \n",
       "\n",
       "       admission_type_id  discharge_disposition_id  admission_source_id  \\\n",
       "count      100766.000000             100766.000000        100766.000000   \n",
       "mean            2.027757                  3.724659             5.755801   \n",
       "std             1.447976                  5.292776             4.072145   \n",
       "min             1.000000                  1.000000             1.000000   \n",
       "25%             1.000000                  1.000000             1.000000   \n",
       "50%             1.000000                  1.000000             7.000000   \n",
       "75%             3.000000                  4.000000             7.000000   \n",
       "max             8.000000                 28.000000            25.000000   \n",
       "\n",
       "       time_in_hospital  num_lab_procedures  num_procedures  ...  \\\n",
       "count     100766.000000       100766.000000   100766.000000  ...   \n",
       "mean           4.398676           43.100113        1.339648  ...   \n",
       "std            2.986665           19.656306        1.704756  ...   \n",
       "min            1.000000            1.000000        0.000000  ...   \n",
       "25%            2.000000           31.000000        0.000000  ...   \n",
       "50%            4.000000           44.000000        1.000000  ...   \n",
       "75%            6.000000           57.000000        2.000000  ...   \n",
       "max           14.000000          132.000000        6.000000  ...   \n",
       "\n",
       "       medical_Surgery-General  medical_Surgery-Maxillofacial  \\\n",
       "count            100766.000000                  100766.000000   \n",
       "mean                  0.030496                       0.000109   \n",
       "std                   0.171950                       0.010448   \n",
       "min                   0.000000                       0.000000   \n",
       "25%                   0.000000                       0.000000   \n",
       "50%                   0.000000                       0.000000   \n",
       "75%                   0.000000                       0.000000   \n",
       "max                   1.000000                       1.000000   \n",
       "\n",
       "       medical_Surgery-Neuro  medical_Surgery-Pediatric  \\\n",
       "count          100766.000000              100766.000000   \n",
       "mean                0.004644                   0.000079   \n",
       "std                 0.067992                   0.008910   \n",
       "min                 0.000000                   0.000000   \n",
       "25%                 0.000000                   0.000000   \n",
       "50%                 0.000000                   0.000000   \n",
       "75%                 0.000000                   0.000000   \n",
       "max                 1.000000                   1.000000   \n",
       "\n",
       "       medical_Surgery-Plastic  medical_Surgery-PlasticwithinHeadandNeck  \\\n",
       "count            100766.000000                              100766.00000   \n",
       "mean                  0.000407                                   0.00001   \n",
       "std                   0.020167                                   0.00315   \n",
       "min                   0.000000                                   0.00000   \n",
       "25%                   0.000000                                   0.00000   \n",
       "50%                   0.000000                                   0.00000   \n",
       "75%                   0.000000                                   0.00000   \n",
       "max                   1.000000                                   1.00000   \n",
       "\n",
       "       medical_Surgery-Thoracic  medical_Surgery-Vascular  \\\n",
       "count             100766.000000             100766.000000   \n",
       "mean                   0.001062                  0.005289   \n",
       "std                    0.032569                  0.072537   \n",
       "min                    0.000000                  0.000000   \n",
       "25%                    0.000000                  0.000000   \n",
       "50%                    0.000000                  0.000000   \n",
       "75%                    0.000000                  0.000000   \n",
       "max                    1.000000                  1.000000   \n",
       "\n",
       "       medical_SurgicalSpecialty  medical_Urology  \n",
       "count              100766.000000    100766.000000  \n",
       "mean                    0.000308         0.006788  \n",
       "std                     0.017537         0.082110  \n",
       "min                     0.000000         0.000000  \n",
       "25%                     0.000000         0.000000  \n",
       "50%                     0.000000         0.000000  \n",
       "75%                     0.000000         0.000000  \n",
       "max                     1.000000         1.000000  \n",
       "\n",
       "[8 rows x 115 columns]"
      ]
     },
     "execution_count": 23,
     "metadata": {},
     "output_type": "execute_result"
    }
   ],
   "source": [
    "data.describe()"
   ]
  },
  {
   "cell_type": "markdown",
   "id": "a92291c1",
   "metadata": {},
   "source": [
    "# EDA"
   ]
  },
  {
   "cell_type": "code",
   "execution_count": 24,
   "id": "ca868ada",
   "metadata": {},
   "outputs": [
    {
     "data": {
      "image/png": "[encoded data removed]",
      "text/plain": [
       "<Figure size 504x504 with 1 Axes>"
      ]
     },
     "metadata": {},
     "output_type": "display_data"
    }
   ],
   "source": [
    "plt.figure(figsize=(7,7))\n",
    "data[\"readmitted\"].value_counts().plot.pie()\n",
    "plt.show()"
   ]
  },
  {
   "cell_type": "code",
   "execution_count": 29,
   "id": "9e0b068e",
   "metadata": {},
   "outputs": [
    {
     "data": {
      "text/plain": [
       "<AxesSubplot:xlabel='race', ylabel='count'>"
      ]
     },
     "execution_count": 29,
     "metadata": {},
     "output_type": "execute_result"
    },
    {
     "data": {
      "image/png": "[encoded data removed]",
      "text/plain": [
       "<Figure size 432x288 with 1 Axes>"
      ]
     },
     "metadata": {
      "needs_background": "light"
     },
     "output_type": "display_data"
    }
   ],
   "source": [
    "sb.countplot(x ='race', hue = \"readmitted\", data = data)"
   ]
  },
  {
   "cell_type": "code",
   "execution_count": 30,
   "id": "26f10f3f",
   "metadata": {},
   "outputs": [
    {
     "data": {
      "text/plain": [
       "<AxesSubplot:xlabel='gender', ylabel='count'>"
      ]
     },
     "execution_count": 30,
     "metadata": {},
     "output_type": "execute_result"
    },
    {
     "data": {
      "image/png": "[encoded data removed]",
      "text/plain": [
       "<Figure size 432x288 with 1 Axes>"
      ]
     },
     "metadata": {
      "needs_background": "light"
     },
     "output_type": "display_data"
    }
   ],
   "source": [
    "sb.countplot(x ='gender', hue = \"readmitted\", data = data)"
   ]
  },
  {
   "cell_type": "code",
   "execution_count": 31,
   "id": "db8a88a6",
   "metadata": {},
   "outputs": [
    {
     "data": {
      "text/plain": [
       "<AxesSubplot:xlabel='age', ylabel='count'>"
      ]
     },
     "execution_count": 31,
     "metadata": {},
     "output_type": "execute_result"
    },
    {
     "data": {
      "image/png": "[encoded data removed]",
      "text/plain": [
       "<Figure size 432x288 with 1 Axes>"
      ]
     },
     "metadata": {
      "needs_background": "light"
     },
     "output_type": "display_data"
    }
   ],
   "source": [
    "sb.countplot(x ='age', hue = \"readmitted\", data = data)"
   ]
  },
  {
   "cell_type": "code",
   "execution_count": 32,
   "id": "0f1dfe1d",
   "metadata": {},
   "outputs": [
    {
     "data": {
      "text/plain": [
       "<AxesSubplot:xlabel='maxgluserum', ylabel='count'>"
      ]
     },
     "execution_count": 32,
     "metadata": {},
     "output_type": "execute_result"
    },
    {
     "data": {
      "image/png": "[encoded data removed]",
      "text/plain": [
       "<Figure size 432x288 with 1 Axes>"
      ]
     },
     "metadata": {
      "needs_background": "light"
     },
     "output_type": "display_data"
    }
   ],
   "source": [
    "sb.countplot(x ='maxgluserum', hue = \"readmitted\", data = data)"
   ]
  },
  {
   "cell_type": "code",
   "execution_count": 33,
   "id": "bfb7213a",
   "metadata": {},
   "outputs": [
    {
     "data": {
      "text/plain": [
       "<AxesSubplot:xlabel='A1Cresult', ylabel='count'>"
      ]
     },
     "execution_count": 33,
     "metadata": {},
     "output_type": "execute_result"
    },
    {
     "data": {
      "image/png": "[encoded data removed]",
      "text/plain": [
       "<Figure size 432x288 with 1 Axes>"
      ]
     },
     "metadata": {
      "needs_background": "light"
     },
     "output_type": "display_data"
    }
   ],
   "source": [
    "sb.countplot(x ='A1Cresult', hue = \"readmitted\", data = data)"
   ]
  },
  {
   "cell_type": "code",
   "execution_count": 34,
   "id": "d8fd05b1",
   "metadata": {},
   "outputs": [
    {
     "data": {
      "text/plain": [
       "<AxesSubplot:xlabel='change', ylabel='count'>"
      ]
     },
     "execution_count": 34,
     "metadata": {},
     "output_type": "execute_result"
    },
    {
     "data": {
      "image/png": "[encoded data removed]",
      "text/plain": [
       "<Figure size 432x288 with 1 Axes>"
      ]
     },
     "metadata": {
      "needs_background": "light"
     },
     "output_type": "display_data"
    }
   ],
   "source": [
    "sb.countplot(x ='change', hue = \"readmitted\", data = data)"
   ]
  },
  {
   "cell_type": "code",
   "execution_count": 35,
   "id": "4015ea39",
   "metadata": {},
   "outputs": [
    {
     "data": {
      "text/plain": [
       "<AxesSubplot:xlabel='diabetesMed', ylabel='count'>"
      ]
     },
     "execution_count": 35,
     "metadata": {},
     "output_type": "execute_result"
    },
    {
     "data": {
      "image/png": "[encoded data removed]",
      "text/plain": [
       "<Figure size 432x288 with 1 Axes>"
      ]
     },
     "metadata": {
      "needs_background": "light"
     },
     "output_type": "display_data"
    }
   ],
   "source": [
    "sb.countplot(x ='diabetesMed', hue = \"readmitted\", data = data)"
   ]
  },
  {
   "cell_type": "code",
   "execution_count": 25,
   "id": "2f93c692",
   "metadata": {},
   "outputs": [
    {
     "data": {
      "text/plain": [
       "<AxesSubplot:xlabel='time_in_hospital', ylabel='Count'>"
      ]
     },
     "execution_count": 25,
     "metadata": {},
     "output_type": "execute_result"
    },
    {
     "data": {
      "image/png": "[encoded data removed]",
      "text/plain": [
       "<Figure size 432x288 with 1 Axes>"
      ]
     },
     "metadata": {
      "needs_background": "light"
     },
     "output_type": "display_data"
    }
   ],
   "source": [
    "sb.histplot(x='time_in_hospital',hue='readmitted',data=data)"
   ]
  },
  {
   "cell_type": "code",
   "execution_count": 26,
   "id": "26d57983",
   "metadata": {},
   "outputs": [
    {
     "data": {
      "text/plain": [
       "<AxesSubplot:xlabel='num_lab_procedures', ylabel='Count'>"
      ]
     },
     "execution_count": 26,
     "metadata": {},
     "output_type": "execute_result"
    },
    {
     "data": {
      "image/png": "[encoded data removed]",
      "text/plain": [
       "<Figure size 432x288 with 1 Axes>"
      ]
     },
     "metadata": {
      "needs_background": "light"
     },
     "output_type": "display_data"
    }
   ],
   "source": [
    "sb.histplot(x='num_lab_procedures',hue='readmitted',data=data)"
   ]
  },
  {
   "cell_type": "code",
   "execution_count": 27,
   "id": "90c486f9",
   "metadata": {},
   "outputs": [
    {
     "data": {
      "text/plain": [
       "<AxesSubplot:xlabel='num_medications', ylabel='Count'>"
      ]
     },
     "execution_count": 27,
     "metadata": {},
     "output_type": "execute_result"
    },
    {
     "data": {
      "image/png": "[encoded data removed]",
      "text/plain": [
       "<Figure size 432x288 with 1 Axes>"
      ]
     },
     "metadata": {
      "needs_background": "light"
     },
     "output_type": "display_data"
    }
   ],
   "source": [
    "sb.histplot(x='num_medications',hue='readmitted',data=data)"
   ]
  },
  {
   "cell_type": "code",
   "execution_count": 30,
   "id": "432d24fb",
   "metadata": {},
   "outputs": [
    {
     "data": {
      "text/plain": [
       "<AxesSubplot:xlabel='number_diagnoses', ylabel='Count'>"
      ]
     },
     "execution_count": 30,
     "metadata": {},
     "output_type": "execute_result"
    },
    {
     "data": {
      "image/png": "[encoded data removed]",
      "text/plain": [
       "<Figure size 432x288 with 1 Axes>"
      ]
     },
     "metadata": {
      "needs_background": "light"
     },
     "output_type": "display_data"
    }
   ],
   "source": [
    "sb.histplot(x='number_diagnoses',hue='readmitted',data=data)"
   ]
  },
  {
   "cell_type": "markdown",
   "id": "63bbb3a2",
   "metadata": {},
   "source": [
    "#### Removing Skewness"
   ]
  },
  {
   "cell_type": "code",
   "execution_count": 36,
   "id": "d07497eb",
   "metadata": {},
   "outputs": [
    {
     "name": "stdout",
     "output_type": "stream",
     "text": [
      "race\n",
      "2.7184435255013746\n",
      "gender\n",
      "0.15147530728627326\n",
      "age\n",
      "-0.6303189026534384\n",
      "weight\n",
      "-0.5070275119745423\n",
      "admission_type_id\n",
      "1.5864289197673551\n",
      "discharge_disposition_id\n",
      "2.555391569932755\n",
      "admission_source_id\n",
      "1.0311372532658873\n",
      "time_in_hospital\n",
      "1.1325718979243111\n",
      "num_lab_procedures\n",
      "-0.23632264482591994\n",
      "num_procedures\n",
      "1.3155101066407642\n",
      "num_medications\n",
      "1.3276640674387679\n",
      "number_outpatient\n",
      "8.799257698784091\n",
      "number_emergency\n",
      "23.035678108869124\n",
      "number_inpatient\n",
      "3.609606185681003\n",
      "number_diagnoses\n",
      "-0.8788395058820196\n",
      "maxgluserum\n",
      "4.685353622562609\n",
      "A1Cresult\n",
      "3.74091517585761\n",
      "metformin\n",
      "2.4215816512926813\n",
      "repaglinide\n",
      "10.43207902345677\n",
      "nateglinide\n",
      "14.33450568224014\n",
      "chlorpropamide\n",
      "41.207528175615124\n",
      "glimepiride\n",
      "5.649159308997179\n",
      "acetohexamide\n",
      "317.43188247232496\n",
      "glipizide\n",
      "3.458317717200323\n",
      "glyburide\n",
      "3.8955388019521826\n",
      "tolbutamide\n",
      "66.16744413294437\n",
      "pioglitazone\n",
      "4.1966232562723365\n",
      "rosiglitazone\n",
      "4.424438418952312\n",
      "acarbose\n",
      "20.94615919375239\n",
      "miglitol\n",
      "75.0245641239394\n",
      "troglitazone\n",
      "183.26392633696196\n",
      "tolazamide\n",
      "53.61852685093547\n",
      "examide\n",
      "0.0\n",
      "citoglipton\n",
      "0.0\n",
      "insulin\n",
      "0.9079701532489041\n",
      "glyburidemetformin\n",
      "13.409520814738825\n",
      "glipizidemetformin\n",
      "88.02403591212571\n",
      "glimepiridepioglitazone\n",
      "317.43188247232496\n",
      "metforminrosiglitazone\n",
      "224.45489529045344\n",
      "metforminpioglitazone\n",
      "317.4318824723253\n",
      "change\n",
      "0.15459911537133517\n",
      "diabetesMed\n",
      "-1.281253319773613\n",
      "readmitted\n",
      "0.15327749156812856\n",
      "medical_AllergyandImmunology\n",
      "119.9672577273298\n",
      "medical_Anesthesiology\n",
      "91.61968557994861\n",
      "medical_Anesthesiology-Pediatric\n",
      "72.8043533918252\n",
      "medical_Cardiology\n",
      "3.9991458041781005\n",
      "medical_Cardiology-Pediatric\n",
      "119.96725772732978\n",
      "medical_DCPTEAM\n",
      "129.5813774926041\n",
      "medical_Dentistry\n",
      "158.70885306024232\n",
      "medical_Dermatology\n",
      "317.4318824723249\n",
      "medical_Emergency/Trauma\n",
      "3.249145163143321\n",
      "medical_Endocrinology\n",
      "28.92607576157578\n",
      "medical_Endocrinology-Metabolism\n",
      "119.96725772732974\n",
      "medical_Family/GeneralPractice\n",
      "3.2660513291365274\n",
      "medical_Gastroenterology\n",
      "13.302062779960153\n",
      "medical_Gynecology\n",
      "41.645472785270144\n",
      "medical_Hematology\n",
      "35.900871431513536\n",
      "medical_Hematology/Oncology\n",
      "21.995325162961905\n",
      "medical_Hospitalist\n",
      "42.76809134186609\n",
      "medical_InfectiousDiseases\n",
      "52.87774496843257\n",
      "medical_InternalMedicine\n",
      "2.021943251182351\n",
      "medical_Nephrology\n",
      "7.732964523129947\n",
      "medical_Neurology\n",
      "22.212299635298606\n",
      "medical_Neurophysiology\n",
      "317.431882472325\n",
      "medical_Obsterics&Gynecology-GynecologicOnco\n",
      "63.46369236154739\n",
      "medical_Obstetrics\n",
      "72.80435339182513\n",
      "medical_ObstetricsandGynecology\n",
      "12.14099289595138\n",
      "medical_Oncology\n",
      "16.952739789104896\n",
      "medical_Ophthalmology\n",
      "51.46588403358927\n",
      "medical_Orthopedics\n",
      "8.355939775469773\n",
      "medical_Orthopedics-Reconstructive\n",
      "8.880844234440216\n",
      "medical_Osteopath\n",
      "50.801023384659835\n",
      "medical_Otolaryngology\n",
      "28.339534965107205\n",
      "medical_OutreachServices\n",
      "91.61968557994864\n",
      "medical_Pathology\n",
      "76.97020159413675\n",
      "medical_Pediatrics\n",
      "19.842355265807424\n",
      "medical_Pediatrics-AllergyandImmunology\n",
      "183.26392633696193\n",
      "medical_Pediatrics-CriticalCare\n",
      "33.98868560550719\n",
      "medical_Pediatrics-EmergencyMedicine\n",
      "183.2639263369619\n",
      "medical_Pediatrics-Endocrinology\n",
      "25.114736870608198\n",
      "medical_Pediatrics-Hematology-Oncology\n",
      "158.7088530602423\n",
      "medical_Pediatrics-InfectiousDiseases\n",
      "317.4318824723249\n",
      "medical_Pediatrics-Neurology\n",
      "100.36732585483027\n",
      "medical_Pediatrics-Pulmonology\n",
      "63.4636923615474\n",
      "medical_Perinatology\n",
      "317.4318824723249\n",
      "medical_PhysicalMedicineandRehabilitation\n",
      "15.95986999882803\n",
      "medical_PhysicianNotFound\n",
      "100.36732585483028\n",
      "medical_Podiatry\n",
      "31.696387702450608\n",
      "medical_Proctology\n",
      "317.4318824723249\n",
      "medical_Psychiatry\n",
      "10.723876246987144\n",
      "medical_Psychiatry-Addictive\n",
      "317.43188247232496\n",
      "medical_Psychiatry-Child/Adolescent\n",
      "119.96725772732981\n",
      "medical_Psychology\n",
      "31.856543555113376\n",
      "medical_Pulmonology\n",
      "10.628498037655811\n",
      "medical_Radiologist\n",
      "9.356637132172379\n",
      "medical_Radiology\n",
      "43.568862841101556\n",
      "medical_Resident\n",
      "224.45489529045335\n",
      "medical_Rheumatology\n",
      "79.34024929888311\n",
      "medical_Speech\n",
      "317.43188247232484\n",
      "medical_SportsMedicine\n",
      "317.43188247232496\n",
      "medical_Surgeon\n",
      "47.8240190749621\n",
      "medical_Surgery-Cardiovascular\n",
      "32.019142138616985\n",
      "medical_Surgery-Cardiovascular/Thoracic\n",
      "12.310791702009462\n",
      "medical_Surgery-Colon&Rectal\n",
      "95.69506551396056\n",
      "medical_Surgery-General\n",
      "5.460971882304816\n",
      "medical_Surgery-Maxillofacial\n",
      "95.6950655139605\n",
      "medical_Surgery-Neuro\n",
      "14.571088906015317\n",
      "medical_Surgery-Pediatric\n",
      "112.21742324344363\n",
      "medical_Surgery-Plastic\n",
      "49.54500705542455\n",
      "medical_Surgery-PlasticwithinHeadandNeck\n",
      "317.4318824723249\n",
      "medical_Surgery-Thoracic\n",
      "30.638854103113434\n",
      "medical_Surgery-Vascular\n",
      "13.640371205198086\n",
      "medical_SurgicalSpecialty\n",
      "56.98698480153503\n",
      "medical_Urology\n",
      "12.013556835762166\n"
     ]
    }
   ],
   "source": [
    "from scipy.stats import skew\n",
    "df_columns= data.columns\n",
    "\n",
    "for col in df_columns:\n",
    "    print(col)\n",
    "    print(skew(data[col]))"
   ]
  },
  {
   "cell_type": "code",
   "execution_count": 3,
   "id": "8953e504",
   "metadata": {},
   "outputs": [],
   "source": [
    "def log_transform(sample_data):\n",
    "    return np.log(sample_data+1)"
   ]
  },
  {
   "cell_type": "code",
   "execution_count": 38,
   "id": "8c6c5ae0",
   "metadata": {},
   "outputs": [],
   "source": [
    "def cuberoot_transform(sample_data):\n",
    "    return np.cbrt(sample_data)"
   ]
  },
  {
   "cell_type": "code",
   "execution_count": 39,
   "id": "8a00eebb",
   "metadata": {},
   "outputs": [],
   "source": [
    "columns_positive=['time_in_hospital','num_procedures','num_medications','number_outpatient','number_emergency','number_inpatient',]\n",
    "columns_negative=['num_lab_procedures','number_diagnoses']\n",
    "\n",
    "for col_pos in columns_positive:\n",
    "    data[col_pos] = data[col_pos].map(log_transform)\n",
    "\n",
    "for col_neg in columns_negative:\n",
    "    data[col_neg] = data[col_neg].map(cuberoot_transform)\n"
   ]
  },
  {
   "cell_type": "markdown",
   "id": "13f75e4d",
   "metadata": {},
   "source": [
    "##### Dividing data"
   ]
  },
  {
   "cell_type": "code",
   "execution_count": 40,
   "id": "78083741",
   "metadata": {},
   "outputs": [],
   "source": [
    "x=data.drop('readmitted',axis=1)\n",
    "y=data['readmitted']"
   ]
  },
  {
   "cell_type": "markdown",
   "id": "b8c7ef7c",
   "metadata": {},
   "source": [
    "##### Using SMOTE to remove imbalancedness in data"
   ]
  },
  {
   "cell_type": "code",
   "execution_count": 41,
   "id": "e04d071d",
   "metadata": {},
   "outputs": [
    {
     "data": {
      "text/plain": [
       "0    54233\n",
       "1    54233\n",
       "Name: readmitted, dtype: int64"
      ]
     },
     "execution_count": 41,
     "metadata": {},
     "output_type": "execute_result"
    }
   ],
   "source": [
    "from imblearn.over_sampling import SMOTE\n",
    "smote = SMOTE(sampling_strategy='minority')\n",
    "x_sm, y_sm = smote.fit_resample(x, y)\n",
    "\n",
    "y_sm.value_counts()"
   ]
  },
  {
   "cell_type": "markdown",
   "id": "b2018ce4",
   "metadata": {},
   "source": [
    "##### Standerdizing the variables"
   ]
  },
  {
   "cell_type": "code",
   "execution_count": 42,
   "id": "54bf56a6",
   "metadata": {},
   "outputs": [
    {
     "name": "stderr",
     "output_type": "stream",
     "text": [
      "C:\\ProgramData\\Anaconda3\\lib\\site-packages\\sklearn\\utils\\validation.py:70: FutureWarning: Pass copy=        race  gender  age  weight  admission_type_id  \\\n",
      "0        1.0       0    0     1.0                  6   \n",
      "1        1.0       0    1     3.0                  1   \n",
      "2        2.0       0    2     4.0                  1   \n",
      "3        1.0       1    3     3.0                  1   \n",
      "4        1.0       1    4     4.0                  1   \n",
      "...      ...     ...  ...     ...                ...   \n",
      "108461   1.0       0    5     4.0                  1   \n",
      "108462   2.0       1    4     4.0                  1   \n",
      "108463   1.0       0    7     4.0                  3   \n",
      "108464   1.0       0    7     4.0                  1   \n",
      "108465   1.0       0    7     4.0                  3   \n",
      "\n",
      "        discharge_disposition_id  admission_source_id  time_in_hospital  \\\n",
      "0                             25                    1          0.693147   \n",
      "1                              1                    7          1.386294   \n",
      "2                              1                    7          1.098612   \n",
      "3                              1                    7          1.098612   \n",
      "4                              1                    7          0.693147   \n",
      "...                          ...                  ...               ...   \n",
      "108461                         6                    7          1.819635   \n",
      "108462                         1                    7          1.067447   \n",
      "108463                         1                    1          0.693147   \n",
      "108464                         1                    7          1.238429   \n",
      "108465                         1                    1          1.882635   \n",
      "\n",
      "        num_lab_procedures  num_procedures  ...  medical_Surgery-General  \\\n",
      "0                 3.448217        0.000000  ...                        0   \n",
      "1                 3.892996        0.000000  ...                        0   \n",
      "2                 2.223980        1.791759  ...                        0   \n",
      "3                 3.530348        0.693147  ...                        0   \n",
      "4                 3.708430        0.000000  ...                        0   \n",
      "...                    ...             ...  ...                      ...   \n",
      "108461            4.136750        0.000000  ...                        0   \n",
      "108462            3.726058        0.000000  ...                        0   \n",
      "108463            2.922295        1.945910  ...                        0   \n",
      "108464            3.567919        0.000000  ...                        0   \n",
      "108465            3.618319        0.000000  ...                        0   \n",
      "\n",
      "        medical_Surgery-Maxillofacial  medical_Surgery-Neuro  \\\n",
      "0                                   0                      0   \n",
      "1                                   0                      0   \n",
      "2                                   0                      0   \n",
      "3                                   0                      0   \n",
      "4                                   0                      0   \n",
      "...                               ...                    ...   \n",
      "108461                              0                      0   \n",
      "108462                              0                      0   \n",
      "108463                              0                      0   \n",
      "108464                              0                      0   \n",
      "108465                              0                      0   \n",
      "\n",
      "        medical_Surgery-Pediatric  medical_Surgery-Plastic  \\\n",
      "0                               0                        0   \n",
      "1                               0                        0   \n",
      "2                               0                        0   \n",
      "3                               0                        0   \n",
      "4                               0                        0   \n",
      "...                           ...                      ...   \n",
      "108461                          0                        0   \n",
      "108462                          0                        0   \n",
      "108463                          0                        0   \n",
      "108464                          0                        0   \n",
      "108465                          0                        0   \n",
      "\n",
      "        medical_Surgery-PlasticwithinHeadandNeck  medical_Surgery-Thoracic  \\\n",
      "0                                              0                         0   \n",
      "1                                              0                         0   \n",
      "2                                              0                         0   \n",
      "3                                              0                         0   \n",
      "4                                              0                         0   \n",
      "...                                          ...                       ...   \n",
      "108461                                         0                         0   \n",
      "108462                                         0                         0   \n",
      "108463                                         0                         0   \n",
      "108464                                         0                         0   \n",
      "108465                                         0                         0   \n",
      "\n",
      "        medical_Surgery-Vascular  medical_SurgicalSpecialty  medical_Urology  \n",
      "0                              0                          0                0  \n",
      "1                              0                          0                0  \n",
      "2                              0                          0                0  \n",
      "3                              0                          0                0  \n",
      "4                              0                          0                0  \n",
      "...                          ...                        ...              ...  \n",
      "108461                         0                          0                0  \n",
      "108462                         0                          0                0  \n",
      "108463                         0                          0                0  \n",
      "108464                         0                          0                0  \n",
      "108465                         0                          0                0  \n",
      "\n",
      "[108466 rows x 114 columns], with_mean=0         0\n",
      "1         1\n",
      "2         0\n",
      "3         0\n",
      "4         0\n",
      "         ..\n",
      "108461    1\n",
      "108462    1\n",
      "108463    1\n",
      "108464    1\n",
      "108465    1\n",
      "Name: readmitted, Length: 108466, dtype: int64 as keyword args. From version 1.0 (renaming of 0.25) passing these as positional arguments will result in an error\n",
      "  warnings.warn(f\"Pass {args_msg} as keyword args. From version \"\n"
     ]
    }
   ],
   "source": [
    "from sklearn.preprocessing import StandardScaler\n",
    "sc = StandardScaler(x_sm,y_sm)"
   ]
  },
  {
   "cell_type": "code",
   "execution_count": 43,
   "id": "f6bc1a54",
   "metadata": {},
   "outputs": [],
   "source": [
    "from sklearn.model_selection import train_test_split\n",
    "x_train,x_test,y_train,y_test=train_test_split(x_sm,y_sm,random_state=0,test_size=0.80)"
   ]
  },
  {
   "cell_type": "markdown",
   "id": "020e9d9b",
   "metadata": {},
   "source": [
    "# Model building"
   ]
  },
  {
   "cell_type": "markdown",
   "id": "708903ee",
   "metadata": {},
   "source": [
    "##### Logistic regression"
   ]
  },
  {
   "cell_type": "code",
   "execution_count": 44,
   "id": "eb1e35ff",
   "metadata": {},
   "outputs": [
    {
     "name": "stderr",
     "output_type": "stream",
     "text": [
      "C:\\ProgramData\\Anaconda3\\lib\\site-packages\\sklearn\\linear_model\\_logistic.py:763: ConvergenceWarning: lbfgs failed to converge (status=1):\n",
      "STOP: TOTAL NO. of ITERATIONS REACHED LIMIT.\n",
      "\n",
      "Increase the number of iterations (max_iter) or scale the data as shown in:\n",
      "    https://scikit-learn.org/stable/modules/preprocessing.html\n",
      "Please also refer to the documentation for alternative solver options:\n",
      "    https://scikit-learn.org/stable/modules/linear_model.html#logistic-regression\n",
      "  n_iter_i = _check_optimize_result(\n"
     ]
    },
    {
     "data": {
      "text/plain": [
       "LogisticRegression()"
      ]
     },
     "execution_count": 44,
     "metadata": {},
     "output_type": "execute_result"
    }
   ],
   "source": [
    "from sklearn.linear_model import LogisticRegression as LogReg\n",
    "logreg=LogReg()\n",
    "\n",
    "logreg.fit(x_train,y_train)"
   ]
  },
  {
   "cell_type": "code",
   "execution_count": 45,
   "id": "a1258fdc",
   "metadata": {},
   "outputs": [
    {
     "data": {
      "text/plain": [
       "array([1, 1, 1, ..., 1, 1, 0], dtype=int64)"
      ]
     },
     "execution_count": 45,
     "metadata": {},
     "output_type": "execute_result"
    }
   ],
   "source": [
    "train_predict = logreg.predict(x_train)\n",
    "train_predict"
   ]
  },
  {
   "cell_type": "code",
   "execution_count": 46,
   "id": "c937ae05",
   "metadata": {},
   "outputs": [
    {
     "name": "stdout",
     "output_type": "stream",
     "text": [
      "Training f1_score 0.5962962962962963\n"
     ]
    }
   ],
   "source": [
    "from sklearn.metrics import f1_score\n",
    "k = f1_score(train_predict, y_train)\n",
    "print('Training f1_score', k )"
   ]
  },
  {
   "cell_type": "code",
   "execution_count": 43,
   "id": "0e7edcdd",
   "metadata": {},
   "outputs": [
    {
     "name": "stdout",
     "output_type": "stream",
     "text": [
      "Test f1_score     0.5930199727476951\n"
     ]
    }
   ],
   "source": [
    "test_predict = logreg.predict(x_test)\n",
    "k = f1_score(test_predict, y_test)\n",
    "print('Test f1_score    ', k )"
   ]
  },
  {
   "cell_type": "markdown",
   "id": "9309e18f",
   "metadata": {},
   "source": [
    "##### XGBOOST Classifier"
   ]
  },
  {
   "cell_type": "code",
   "execution_count": 47,
   "id": "bfbb8b88",
   "metadata": {},
   "outputs": [],
   "source": [
    "import xgboost as xgb"
   ]
  },
  {
   "cell_type": "code",
   "execution_count": 48,
   "id": "66e52488",
   "metadata": {},
   "outputs": [],
   "source": [
    "model=xgb.XGBClassifier(objective='binary:logistic',learning_rate=0.1,max_depth=6,estimators=500)"
   ]
  },
  {
   "cell_type": "code",
   "execution_count": 49,
   "id": "f6810f83",
   "metadata": {},
   "outputs": [
    {
     "name": "stderr",
     "output_type": "stream",
     "text": [
      "C:\\ProgramData\\Anaconda3\\lib\\site-packages\\xgboost\\sklearn.py:1224: UserWarning: The use of label encoder in XGBClassifier is deprecated and will be removed in a future release. To remove this warning, do the following: 1) Pass option use_label_encoder=False when constructing XGBClassifier object; and 2) Encode your labels (y) as integers starting with 0, i.e. 0, 1, 2, ..., [num_class - 1].\n",
      "  warnings.warn(label_encoder_deprecation_msg, UserWarning)\n"
     ]
    },
    {
     "name": "stdout",
     "output_type": "stream",
     "text": [
      "[20:10:38] WARNING: C:/Users/Administrator/workspace/xgboost-win64_release_1.5.0/src/learner.cc:576: \n",
      "Parameters: { \"estimators\" } might not be used.\n",
      "\n",
      "  This could be a false alarm, with some parameters getting used by language bindings but\n",
      "  then being mistakenly passed down to XGBoost core, or some parameter actually being used\n",
      "  but getting flagged wrongly here. Please open an issue if you find any such cases.\n",
      "\n",
      "\n",
      "[20:10:38] WARNING: C:/Users/Administrator/workspace/xgboost-win64_release_1.5.0/src/learner.cc:1115: Starting in XGBoost 1.3.0, the default evaluation metric used with the objective 'binary:logistic' was changed from 'error' to 'logloss'. Explicitly set eval_metric if you'd like to restore the old behavior.\n"
     ]
    },
    {
     "data": {
      "text/plain": [
       "XGBClassifier(base_score=0.5, booster='gbtree', colsample_bylevel=1,\n",
       "              colsample_bynode=1, colsample_bytree=1, enable_categorical=False,\n",
       "              estimators=500, gamma=0, gpu_id=-1, importance_type=None,\n",
       "              interaction_constraints='', learning_rate=0.1, max_delta_step=0,\n",
       "              max_depth=6, min_child_weight=1, missing=nan,\n",
       "              monotone_constraints='()', n_estimators=100, n_jobs=8,\n",
       "              num_parallel_tree=1, predictor='auto', random_state=0,\n",
       "              reg_alpha=0, reg_lambda=1, scale_pos_weight=1, subsample=1,\n",
       "              tree_method='exact', validate_parameters=1, verbosity=None)"
      ]
     },
     "execution_count": 49,
     "metadata": {},
     "output_type": "execute_result"
    }
   ],
   "source": [
    "model.fit(x_train,y_train)"
   ]
  },
  {
   "cell_type": "code",
   "execution_count": 50,
   "id": "1a3a5b70",
   "metadata": {},
   "outputs": [],
   "source": [
    "y_pred=model.predict(x_test)"
   ]
  },
  {
   "cell_type": "code",
   "execution_count": 51,
   "id": "a3c3a95d",
   "metadata": {},
   "outputs": [],
   "source": [
    "from sklearn.metrics import classification_report,confusion_matrix"
   ]
  },
  {
   "cell_type": "code",
   "execution_count": 52,
   "id": "cbd68482",
   "metadata": {},
   "outputs": [
    {
     "data": {
      "text/plain": [
       "array([[29870, 13662],\n",
       "       [15902, 27339]], dtype=int64)"
      ]
     },
     "execution_count": 52,
     "metadata": {},
     "output_type": "execute_result"
    }
   ],
   "source": [
    "confusion_matrix(y_test,y_pred)"
   ]
  },
  {
   "cell_type": "code",
   "execution_count": 53,
   "id": "5f00993e",
   "metadata": {},
   "outputs": [
    {
     "name": "stdout",
     "output_type": "stream",
     "text": [
      "              precision    recall  f1-score   support\n",
      "\n",
      "           0       0.69      0.65      0.67     45772\n",
      "           1       0.63      0.67      0.65     41001\n",
      "\n",
      "    accuracy                           0.66     86773\n",
      "   macro avg       0.66      0.66      0.66     86773\n",
      "weighted avg       0.66      0.66      0.66     86773\n",
      "\n"
     ]
    }
   ],
   "source": [
    "print(classification_report(y_pred,y_test))"
   ]
  },
  {
   "cell_type": "markdown",
   "id": "c79527ed",
   "metadata": {},
   "source": [
    "##### Artificial neural network"
   ]
  },
  {
   "cell_type": "code",
   "execution_count": 54,
   "id": "9e829505",
   "metadata": {},
   "outputs": [
    {
     "data": {
      "text/plain": [
       "(21693, 114)"
      ]
     },
     "execution_count": 54,
     "metadata": {},
     "output_type": "execute_result"
    }
   ],
   "source": [
    "x_train.shape"
   ]
  },
  {
   "cell_type": "code",
   "execution_count": 55,
   "id": "05a6d32f",
   "metadata": {},
   "outputs": [],
   "source": [
    "import tensorflow as tf\n",
    "from tensorflow import keras"
   ]
  },
  {
   "cell_type": "code",
   "execution_count": 57,
   "id": "224f6daa",
   "metadata": {},
   "outputs": [
    {
     "name": "stdout",
     "output_type": "stream",
     "text": [
      "Epoch 1/100\n",
      "678/678 [==============================] - 1s 642us/step - loss: 0.6649 - accuracy: 0.5935\n",
      "Epoch 2/100\n",
      "678/678 [==============================] - 0s 608us/step - loss: 0.6506 - accuracy: 0.6144\n",
      "Epoch 3/100\n",
      "678/678 [==============================] - 0s 713us/step - loss: 0.6420 - accuracy: 0.6233\n",
      "Epoch 4/100\n",
      "678/678 [==============================] - 1s 860us/step - loss: 0.6393 - accuracy: 0.6277\n",
      "Epoch 5/100\n",
      "678/678 [==============================] - 0s 704us/step - loss: 0.6345 - accuracy: 0.6289\n",
      "Epoch 6/100\n",
      "678/678 [==============================] - 0s 624us/step - loss: 0.6326 - accuracy: 0.6335\n",
      "Epoch 7/100\n",
      "678/678 [==============================] - 0s 726us/step - loss: 0.6285 - accuracy: 0.6382\n",
      "Epoch 8/100\n",
      "678/678 [==============================] - 0s 704us/step - loss: 0.6278 - accuracy: 0.6391\n",
      "Epoch 9/100\n",
      "678/678 [==============================] - 0s 664us/step - loss: 0.6244 - accuracy: 0.6405\n",
      "Epoch 10/100\n",
      "678/678 [==============================] - 0s 676us/step - loss: 0.6222 - accuracy: 0.6439\n",
      "Epoch 11/100\n",
      "678/678 [==============================] - 0s 618us/step - loss: 0.6189 - accuracy: 0.6474\n",
      "Epoch 12/100\n",
      "678/678 [==============================] - 0s 619us/step - loss: 0.6161 - accuracy: 0.6506\n",
      "Epoch 13/100\n",
      "678/678 [==============================] - 0s 640us/step - loss: 0.6134 - accuracy: 0.6544\n",
      "Epoch 14/100\n",
      "678/678 [==============================] - 0s 733us/step - loss: 0.6117 - accuracy: 0.6581\n",
      "Epoch 15/100\n",
      "678/678 [==============================] - 0s 648us/step - loss: 0.6085 - accuracy: 0.6615\n",
      "Epoch 16/100\n",
      "678/678 [==============================] - 1s 883us/step - loss: 0.6043 - accuracy: 0.6592\n",
      "Epoch 17/100\n",
      "678/678 [==============================] - 0s 640us/step - loss: 0.6016 - accuracy: 0.6668\n",
      "Epoch 18/100\n",
      "678/678 [==============================] - 0s 623us/step - loss: 0.5980 - accuracy: 0.6651\n",
      "Epoch 19/100\n",
      "678/678 [==============================] - 0s 638us/step - loss: 0.5941 - accuracy: 0.6710\n",
      "Epoch 20/100\n",
      "678/678 [==============================] - 1s 762us/step - loss: 0.5920 - accuracy: 0.6722\n",
      "Epoch 21/100\n",
      "678/678 [==============================] - 1s 794us/step - loss: 0.5893 - accuracy: 0.6781\n",
      "Epoch 22/100\n",
      "678/678 [==============================] - 0s 673us/step - loss: 0.5847 - accuracy: 0.6801\n",
      "Epoch 23/100\n",
      "678/678 [==============================] - 0s 629us/step - loss: 0.5800 - accuracy: 0.6816\n",
      "Epoch 24/100\n",
      "678/678 [==============================] - 0s 614us/step - loss: 0.5762 - accuracy: 0.6852\n",
      "Epoch 25/100\n",
      "678/678 [==============================] - 0s 619us/step - loss: 0.5721 - accuracy: 0.6892\n",
      "Epoch 26/100\n",
      "678/678 [==============================] - 0s 615us/step - loss: 0.5702 - accuracy: 0.6913\n",
      "Epoch 27/100\n",
      "678/678 [==============================] - 1s 779us/step - loss: 0.5654 - accuracy: 0.6928\n",
      "Epoch 28/100\n",
      "678/678 [==============================] - 0s 606us/step - loss: 0.5600 - accuracy: 0.7000\n",
      "Epoch 29/100\n",
      "678/678 [==============================] - 0s 615us/step - loss: 0.5562 - accuracy: 0.6982\n",
      "Epoch 30/100\n",
      "678/678 [==============================] - 0s 728us/step - loss: 0.5505 - accuracy: 0.7059\n",
      "Epoch 31/100\n",
      "678/678 [==============================] - 1s 752us/step - loss: 0.5463 - accuracy: 0.7071\n",
      "Epoch 32/100\n",
      "678/678 [==============================] - 1s 838us/step - loss: 0.5421 - accuracy: 0.7083\n",
      "Epoch 33/100\n",
      "678/678 [==============================] - 0s 679us/step - loss: 0.5378 - accuracy: 0.7120\n",
      "Epoch 34/100\n",
      "678/678 [==============================] - 0s 632us/step - loss: 0.5345 - accuracy: 0.7151\n",
      "Epoch 35/100\n",
      "678/678 [==============================] - 0s 686us/step - loss: 0.5269 - accuracy: 0.7204\n",
      "Epoch 36/100\n",
      "678/678 [==============================] - 0s 617us/step - loss: 0.5220 - accuracy: 0.7233\n",
      "Epoch 37/100\n",
      "678/678 [==============================] - 0s 638us/step - loss: 0.5180 - accuracy: 0.7253\n",
      "Epoch 38/100\n",
      "678/678 [==============================] - 1s 740us/step - loss: 0.5135 - accuracy: 0.7265\n",
      "Epoch 39/100\n",
      "678/678 [==============================] - 1s 773us/step - loss: 0.5075 - accuracy: 0.7330\n",
      "Epoch 40/100\n",
      "678/678 [==============================] - 0s 648us/step - loss: 0.5054 - accuracy: 0.7330\n",
      "Epoch 41/100\n",
      "678/678 [==============================] - 1s 835us/step - loss: 0.5005 - accuracy: 0.7389\n",
      "Epoch 42/100\n",
      "678/678 [==============================] - 0s 634us/step - loss: 0.4955 - accuracy: 0.7428\n",
      "Epoch 43/100\n",
      "678/678 [==============================] - 0s 727us/step - loss: 0.4913 - accuracy: 0.7474\n",
      "Epoch 44/100\n",
      "678/678 [==============================] - 0s 714us/step - loss: 0.4834 - accuracy: 0.7510\n",
      "Epoch 45/100\n",
      "678/678 [==============================] - 1s 769us/step - loss: 0.4831 - accuracy: 0.7518\n",
      "Epoch 46/100\n",
      "678/678 [==============================] - 0s 707us/step - loss: 0.4771 - accuracy: 0.7535\n",
      "Epoch 47/100\n",
      "678/678 [==============================] - 1s 803us/step - loss: 0.4756 - accuracy: 0.7525\n",
      "Epoch 48/100\n",
      "678/678 [==============================] - 0s 678us/step - loss: 0.4716 - accuracy: 0.7574\n",
      "Epoch 49/100\n",
      "678/678 [==============================] - 0s 725us/step - loss: 0.4673 - accuracy: 0.7597\n",
      "Epoch 50/100\n",
      "678/678 [==============================] - 0s 604us/step - loss: 0.4641 - accuracy: 0.7578\n",
      "Epoch 51/100\n",
      "678/678 [==============================] - 1s 773us/step - loss: 0.4593 - accuracy: 0.7652\n",
      "Epoch 52/100\n",
      "678/678 [==============================] - 1s 803us/step - loss: 0.4584 - accuracy: 0.7645\n",
      "Epoch 53/100\n",
      "678/678 [==============================] - 0s 714us/step - loss: 0.4527 - accuracy: 0.7663\n",
      "Epoch 54/100\n",
      "678/678 [==============================] - 0s 646us/step - loss: 0.4489 - accuracy: 0.7696\n",
      "Epoch 55/100\n",
      "678/678 [==============================] - 1s 744us/step - loss: 0.4471 - accuracy: 0.7670\n",
      "Epoch 56/100\n",
      "678/678 [==============================] - 1s 849us/step - loss: 0.4431 - accuracy: 0.7710\n",
      "Epoch 57/100\n",
      "678/678 [==============================] - 1s 804us/step - loss: 0.4424 - accuracy: 0.7721\n",
      "Epoch 58/100\n",
      "678/678 [==============================] - 1s 743us/step - loss: 0.4334 - accuracy: 0.7779\n",
      "Epoch 59/100\n",
      "678/678 [==============================] - 0s 713us/step - loss: 0.4383 - accuracy: 0.7731\n",
      "Epoch 60/100\n",
      "678/678 [==============================] - 0s 625us/step - loss: 0.4343 - accuracy: 0.7784\n",
      "Epoch 61/100\n",
      "678/678 [==============================] - 0s 674us/step - loss: 0.4271 - accuracy: 0.7827\n",
      "Epoch 62/100\n",
      "678/678 [==============================] - 0s 672us/step - loss: 0.4268 - accuracy: 0.7834\n",
      "Epoch 63/100\n",
      "678/678 [==============================] - 0s 629us/step - loss: 0.4286 - accuracy: 0.7821\n",
      "Epoch 64/100\n",
      "678/678 [==============================] - 0s 631us/step - loss: 0.4199 - accuracy: 0.7868\n",
      "Epoch 65/100\n",
      "678/678 [==============================] - 0s 662us/step - loss: 0.4143 - accuracy: 0.7893\n",
      "Epoch 66/100\n",
      "678/678 [==============================] - 1s 796us/step - loss: 0.4134 - accuracy: 0.7892\n",
      "Epoch 67/100\n",
      "678/678 [==============================] - 1s 751us/step - loss: 0.4141 - accuracy: 0.7893\n",
      "Epoch 68/100\n",
      "678/678 [==============================] - 0s 619us/step - loss: 0.4113 - accuracy: 0.7897\n",
      "Epoch 69/100\n",
      "678/678 [==============================] - 0s 638us/step - loss: 0.4030 - accuracy: 0.7963\n",
      "Epoch 70/100\n",
      "678/678 [==============================] - 0s 663us/step - loss: 0.4032 - accuracy: 0.7962\n",
      "Epoch 71/100\n",
      "678/678 [==============================] - 0s 626us/step - loss: 0.4038 - accuracy: 0.7939\n",
      "Epoch 72/100\n",
      "678/678 [==============================] - 0s 643us/step - loss: 0.4077 - accuracy: 0.7899\n",
      "Epoch 73/100\n",
      "678/678 [==============================] - 0s 632us/step - loss: 0.4008 - accuracy: 0.7958\n",
      "Epoch 74/100\n",
      "678/678 [==============================] - 0s 634us/step - loss: 0.3955 - accuracy: 0.7974\n",
      "Epoch 75/100\n",
      "678/678 [==============================] - 1s 785us/step - loss: 0.3973 - accuracy: 0.7980\n",
      "Epoch 76/100\n",
      "678/678 [==============================] - 0s 661us/step - loss: 0.3890 - accuracy: 0.8035\n",
      "Epoch 77/100\n",
      "678/678 [==============================] - 0s 617us/step - loss: 0.3882 - accuracy: 0.8035\n",
      "Epoch 78/100\n",
      "678/678 [==============================] - 0s 629us/step - loss: 0.3874 - accuracy: 0.8070\n",
      "Epoch 79/100\n",
      "678/678 [==============================] - 0s 646us/step - loss: 0.3861 - accuracy: 0.8035\n",
      "Epoch 80/100\n",
      "678/678 [==============================] - 0s 610us/step - loss: 0.3879 - accuracy: 0.8070\n",
      "Epoch 81/100\n",
      "678/678 [==============================] - 0s 597us/step - loss: 0.3778 - accuracy: 0.8075\n",
      "Epoch 82/100\n",
      "678/678 [==============================] - 0s 627us/step - loss: 0.3831 - accuracy: 0.8086\n",
      "Epoch 83/100\n",
      "678/678 [==============================] - 0s 608us/step - loss: 0.3783 - accuracy: 0.8092\n",
      "Epoch 84/100\n",
      "678/678 [==============================] - 0s 618us/step - loss: 0.3712 - accuracy: 0.8153\n",
      "Epoch 85/100\n",
      "678/678 [==============================] - 0s 600us/step - loss: 0.3728 - accuracy: 0.8131\n",
      "Epoch 86/100\n",
      "678/678 [==============================] - 0s 597us/step - loss: 0.3722 - accuracy: 0.8130\n",
      "Epoch 87/100\n",
      "678/678 [==============================] - 0s 600us/step - loss: 0.3757 - accuracy: 0.8140\n",
      "Epoch 88/100\n",
      "678/678 [==============================] - 0s 642us/step - loss: 0.3651 - accuracy: 0.8175\n",
      "Epoch 89/100\n",
      "678/678 [==============================] - 0s 630us/step - loss: 0.3685 - accuracy: 0.8178\n",
      "Epoch 90/100\n",
      "678/678 [==============================] - 0s 669us/step - loss: 0.3669 - accuracy: 0.8185\n",
      "Epoch 91/100\n",
      "678/678 [==============================] - 0s 616us/step - loss: 0.3590 - accuracy: 0.8197\n",
      "Epoch 92/100\n",
      "678/678 [==============================] - 0s 619us/step - loss: 0.3712 - accuracy: 0.8170\n",
      "Epoch 93/100\n",
      "678/678 [==============================] - 0s 645us/step - loss: 0.3618 - accuracy: 0.8215\n",
      "Epoch 94/100\n",
      "678/678 [==============================] - 1s 771us/step - loss: 0.3605 - accuracy: 0.8205\n",
      "Epoch 95/100\n",
      "678/678 [==============================] - 0s 660us/step - loss: 0.3574 - accuracy: 0.8220\n",
      "Epoch 96/100\n",
      "678/678 [==============================] - 0s 619us/step - loss: 0.3517 - accuracy: 0.8251\n",
      "Epoch 97/100\n",
      "678/678 [==============================] - 0s 605us/step - loss: 0.3522 - accuracy: 0.8252\n",
      "Epoch 98/100\n",
      "678/678 [==============================] - 0s 642us/step - loss: 0.3556 - accuracy: 0.8234\n",
      "Epoch 99/100\n",
      "678/678 [==============================] - 0s 625us/step - loss: 0.3526 - accuracy: 0.8233\n",
      "Epoch 100/100\n",
      "678/678 [==============================] - 0s 733us/step - loss: 0.3500 - accuracy: 0.8269\n"
     ]
    },
    {
     "data": {
      "text/plain": [
       "<keras.callbacks.History at 0x1dabb0292e0>"
      ]
     },
     "execution_count": 57,
     "metadata": {},
     "output_type": "execute_result"
    }
   ],
   "source": [
    "model=keras.Sequential([\n",
    "    keras.layers.Dense(114,input_shape=(114,),activation='relu'),\n",
    "    keras.layers.Dense(57,activation='relu'),\n",
    "    keras.layers.Dense(27,activation='relu'),\n",
    "    keras.layers.Dense(13,activation='relu'),\n",
    "    keras.layers.Dense(1,activation='sigmoid')\n",
    "])\n",
    "\n",
    "\n",
    "model.compile(optimizer='adam',\n",
    "              loss='binary_crossentropy',\n",
    "              metrics=['accuracy'])\n",
    "\n",
    "model.fit(x_train, y_train, epochs=100)"
   ]
  },
  {
   "cell_type": "code",
   "execution_count": 58,
   "id": "46f22707",
   "metadata": {},
   "outputs": [],
   "source": [
    "yp=model.predict(x_test)\n",
    "y_pred=[]\n",
    "for element in yp:\n",
    "    if element>0.5:\n",
    "        y_pred.append(1)\n",
    "    else:\n",
    "        y_pred.append(0)"
   ]
  },
  {
   "cell_type": "code",
   "execution_count": 59,
   "id": "9cc29c55",
   "metadata": {},
   "outputs": [
    {
     "name": "stdout",
     "output_type": "stream",
     "text": [
      "              precision    recall  f1-score   support\n",
      "\n",
      "           0       0.59      0.59      0.59     43532\n",
      "           1       0.59      0.59      0.59     43241\n",
      "\n",
      "    accuracy                           0.59     86773\n",
      "   macro avg       0.59      0.59      0.59     86773\n",
      "weighted avg       0.59      0.59      0.59     86773\n",
      "\n"
     ]
    }
   ],
   "source": [
    "print(classification_report(y_test,y_pred))"
   ]
  },
  {
   "cell_type": "code",
   "execution_count": 60,
   "id": "b969977f",
   "metadata": {},
   "outputs": [
    {
     "data": {
      "image/png": "[encoded data removed]",
      "text/plain": [
       "<Figure size 432x288 with 2 Axes>"
      ]
     },
     "metadata": {
      "needs_background": "light"
     },
     "output_type": "display_data"
    }
   ],
   "source": [
    "cm=tf.math.confusion_matrix(labels=y_test, predictions=y_pred)\n",
    "sb.heatmap(cm,annot=True,fmt='d')\n",
    "plt.xlabel('Pred')\n",
    "plt.ylabel('Truth');"
   ]
  },
  {
   "cell_type": "markdown",
   "id": "203fc5fa",
   "metadata": {},
   "source": [
    "##### Naive Bayes classifier"
   ]
  },
  {
   "cell_type": "code",
   "execution_count": 61,
   "id": "d64fcd4f",
   "metadata": {},
   "outputs": [],
   "source": [
    "from sklearn.naive_bayes import GaussianNB\n",
    "naive_bayes = GaussianNB()\n",
    "naive_bayes.fit(x_train , y_train)\n",
    "y_pred = naive_bayes.predict(x_test)\n"
   ]
  },
  {
   "cell_type": "code",
   "execution_count": 62,
   "id": "a782165e",
   "metadata": {},
   "outputs": [
    {
     "name": "stdout",
     "output_type": "stream",
     "text": [
      "              precision    recall  f1-score   support\n",
      "\n",
      "           0       0.57      0.76      0.65     43532\n",
      "           1       0.64      0.43      0.51     43241\n",
      "\n",
      "    accuracy                           0.59     86773\n",
      "   macro avg       0.60      0.59      0.58     86773\n",
      "weighted avg       0.60      0.59      0.58     86773\n",
      "\n"
     ]
    }
   ],
   "source": [
    "print(classification_report(y_test,y_pred))"
   ]
  },
  {
   "cell_type": "markdown",
   "id": "00a1a66c",
   "metadata": {},
   "source": [
    "##### SVM classifier"
   ]
  },
  {
   "cell_type": "code",
   "execution_count": 63,
   "id": "6a30ac9e",
   "metadata": {},
   "outputs": [],
   "source": [
    "from sklearn.svm import SVC\n",
    "model=SVC()"
   ]
  },
  {
   "cell_type": "code",
   "execution_count": 64,
   "id": "9e36aae3",
   "metadata": {},
   "outputs": [
    {
     "data": {
      "text/plain": [
       "SVC()"
      ]
     },
     "execution_count": 64,
     "metadata": {},
     "output_type": "execute_result"
    }
   ],
   "source": [
    "model.fit(x_train,y_train)"
   ]
  },
  {
   "cell_type": "code",
   "execution_count": 65,
   "id": "9404a45a",
   "metadata": {},
   "outputs": [
    {
     "data": {
      "text/plain": [
       "0.6223825383471817"
      ]
     },
     "execution_count": 65,
     "metadata": {},
     "output_type": "execute_result"
    }
   ],
   "source": [
    "model.score(x_test,y_test)"
   ]
  },
  {
   "cell_type": "markdown",
   "id": "1d65f7ed",
   "metadata": {},
   "source": [
    "##### Decision tree classifier"
   ]
  },
  {
   "cell_type": "code",
   "execution_count": 66,
   "id": "7b2140b0",
   "metadata": {},
   "outputs": [],
   "source": [
    "from sklearn.tree import DecisionTreeClassifier\n",
    "dtree = DecisionTreeClassifier()"
   ]
  },
  {
   "cell_type": "code",
   "execution_count": 67,
   "id": "ab27c9ac",
   "metadata": {},
   "outputs": [
    {
     "data": {
      "text/plain": [
       "DecisionTreeClassifier()"
      ]
     },
     "execution_count": 67,
     "metadata": {},
     "output_type": "execute_result"
    }
   ],
   "source": [
    "dtree.fit(x_train,y_train)"
   ]
  },
  {
   "cell_type": "code",
   "execution_count": 68,
   "id": "97cd54c7",
   "metadata": {},
   "outputs": [],
   "source": [
    "y_predicted = dtree.predict(x_test)"
   ]
  },
  {
   "cell_type": "code",
   "execution_count": 69,
   "id": "45f55235",
   "metadata": {},
   "outputs": [
    {
     "name": "stdout",
     "output_type": "stream",
     "text": [
      "0.5761584824772683\n"
     ]
    }
   ],
   "source": [
    "from sklearn.metrics import accuracy_score\n",
    "print(accuracy_score(y_test,y_predicted))"
   ]
  },
  {
   "cell_type": "markdown",
   "id": "9f52d600",
   "metadata": {},
   "source": [
    "##### Random Forest"
   ]
  },
  {
   "cell_type": "code",
   "execution_count": 70,
   "id": "a5141646",
   "metadata": {},
   "outputs": [],
   "source": [
    "from sklearn.ensemble import RandomForestClassifier\n",
    "RF=RandomForestClassifier()"
   ]
  },
  {
   "cell_type": "code",
   "execution_count": 71,
   "id": "2e6da01f",
   "metadata": {},
   "outputs": [],
   "source": [
    "model=RF.fit(x_train,y_train)"
   ]
  },
  {
   "cell_type": "code",
   "execution_count": 72,
   "id": "e19bc60c",
   "metadata": {},
   "outputs": [],
   "source": [
    "y_prediction=model.predict(x_test)"
   ]
  },
  {
   "cell_type": "code",
   "execution_count": 73,
   "id": "dd667f46",
   "metadata": {},
   "outputs": [
    {
     "name": "stdout",
     "output_type": "stream",
     "text": [
      "0.6459036797160407\n"
     ]
    }
   ],
   "source": [
    "from sklearn.metrics import accuracy_score\n",
    "print(accuracy_score(y_test,y_prediction))"
   ]
  },
  {
   "cell_type": "markdown",
   "id": "d8a7e818",
   "metadata": {},
   "source": [
    "# Insights"
   ]
  },
  {
   "cell_type": "markdown",
   "id": "fc1b5fa3",
   "metadata": {},
   "source": [
    "1. In given data, maximum patients belonging to Caucasian race got readmitted.\n",
    "2. In given data, maximum patients between age 60 to 90 got readmitted.\n",
    "3. Maximum number of patients who have changed their medications got readmitted.\n",
    "4. In given data, patients for whom diabetes medications was prescribed got readmitted.\n",
    "5. In given data, maximum patients are getting discharge within 7 days and patients who got early discharge got readmitted.\n",
    "6. In given data, maximum patients are undergone 30 to 70 lab procedures.\n",
    "7. In given data, patients with maximum number of medications got readmitted.\n",
    "8. In given data, majority of patients undergone total 9 diagnosis."
   ]
  },
  {
   "cell_type": "markdown",
   "id": "ba1b5768",
   "metadata": {},
   "source": [
    "1. Logistic regression : Classifying diabetes readmitted patients with 59% accuracy.\n",
    "2. XG boost: Classifying diabetes readmitted patients with 66% accuracy.\n",
    "3. ANN: Classifying diabetes readmitted patients with 59% accuracy.\n",
    "4. Naive Bayses: Classifying diabetes readmitted patients with 59% accuracy.\n",
    "5. SVM classifier: Classifying diabetes readmitted patients with 62% accuracy.\n",
    "6. Decision tree classifier: Classifying diabetes readmitted patients with 57% accuracy.\n",
    "7. Random forest: Classifying diabetes readmitted patients with 64% accuracy."
   ]
  },
  {
   "cell_type": "markdown",
   "id": "941a18b6",
   "metadata": {},
   "source": [
    "XGB classifier is classifying diabetes readmittedwith maximum accuracy"
   ]
  }
 ],
 "metadata": {
  "kernelspec": {
   "display_name": "Python 3",
   "language": "python",
   "name": "python3"
  },
  "language_info": {
   "codemirror_mode": {
    "name": "ipython",
    "version": 3
   },
   "file_extension": ".py",
   "mimetype": "text/x-python",
   "name": "python",
   "nbconvert_exporter": "python",
   "pygments_lexer": "ipython3",
   "version": "3.8.8"
  }
 },
 "nbformat": 4,
 "nbformat_minor": 5
}
